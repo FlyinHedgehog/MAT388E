{
 "cells": [
  {
   "cell_type": "markdown",
   "id": "6ff3c040",
   "metadata": {},
   "source": [
    "Gökçe Şahin\n",
    "090190306\n",
    "sahingo19@itu.edu.tr"
   ]
  },
  {
   "cell_type": "code",
   "execution_count": 378,
   "id": "f0567031",
   "metadata": {},
   "outputs": [],
   "source": [
    "import pandas as pd\n",
    "import wbgapi as wb\n",
    "import numpy as np\n",
    "import statsmodels.api as sm\n",
    "import yfinance as yf\n",
    "\n",
    "from statsmodels.formula.api import ols\n",
    "from sklearn.model_selection import train_test_split\n",
    "from sklearn.metrics import confusion_matrix\n",
    "import statsmodels.tools as tools\n",
    "\n",
    "from statsmodels.formula.api import logit\n",
    "import statsmodels.formula.api as smf\n",
    "from sklearn.linear_model import LogisticRegression, LinearRegression\n",
    "from sklearn.tree import DecisionTreeRegressor"
   ]
  },
  {
   "cell_type": "markdown",
   "id": "f53c03e0-c8c7-40bb-a814-c4de469821b7",
   "metadata": {},
   "source": [
    "# Question 1\n",
    "\n",
    "For this question use the World Bank Data for Turkey for the following indicators. Use [wbgapi](https://pypi.org/project/wbgapi/) for getting the data.\n",
    "\n",
    "* [Literacy rate, adult female (SE.ADT.LITR.FE.ZS)](https://data.worldbank.org/indicator/SE.ADT.LITR.FE.ZS)\n",
    "* [Labor force, female (SL.TLF.TOTL.FE.ZS)](https://data.worldbank.org/indicator/SL.TLF.TOTL.FE.ZS)\n",
    "* [Poverty headcount ratio at national poverty lines (SI.POV.NAHC)](https://data.worldbank.org/indicator/SI.POV.NAHC)\n",
    "* [Current health expenditure per capita (SH.XPD.CHEX.PC.CD)](https://data.worldbank.org/indicator/SH.XPD.CHEX.PC.CD)\n",
    "* [GDP per capita (NY.GDP.PCAP.CD)](https://data.worldbank.org/indicator/NY.GDP.PCAP.CD)\n",
    "* [Mortality rate, under-5 (SH.DYN.MORT)](https://data.worldbank.org/indicator/SH.DYN.MORT)\n",
    "\n",
    "\n",
    "Using the [statsmodels](https://www.statsmodels.org/stable/index.html) library write the best linear regression model using child mortality as the dependent variable while the rest are considered as independent variables. Pay particular attention to the fact that the order of the variables put into the model significantly impacts the performance of the model. Choose the best model by considering\n",
    "\n",
    "* with the minimum number of variables and their interactions,\n",
    "* with the optimal ordering of the independent variables and their interactions,\n",
    "* $R^2$-score of the model,\n",
    "* statistical significance of the model coefficients,\n",
    "* ANOVA analysis of the model.\n"
   ]
  },
  {
   "cell_type": "code",
   "execution_count": 379,
   "id": "31354004",
   "metadata": {},
   "outputs": [],
   "source": [
    "def extract(df, cntry, name):\n",
    "    tmp = df[['time','value']][df['economy'] == cntry]\n",
    "    tmp.index = tmp.time\n",
    "    del tmp['time']\n",
    "    tmp.columns = [[name]]\n",
    "    return tmp"
   ]
  },
  {
   "cell_type": "code",
   "execution_count": 380,
   "id": "f99e8694",
   "metadata": {},
   "outputs": [],
   "source": [
    "def vars_mor(cntry, dfs, vars):\n",
    "    arr = [extract(dfs[i], cntry, vars[i]) for i in range(len(vars))]\n",
    "    res = arr[0].join(arr[1:6])\n",
    "    res.dropna(inplace=True)\n",
    "    \n",
    "    return res"
   ]
  },
  {
   "cell_type": "code",
   "execution_count": 381,
   "id": "858c218a",
   "metadata": {},
   "outputs": [],
   "source": [
    "var_apis = {\n",
    "    'literacy': 'SE.ADT.LITR.FE.ZS',\n",
    "    'labor': 'SL.TLF.TOTL.FE.ZS',\n",
    "    'poverty': 'SI.POV.NAHC',\n",
    "    'health': 'SH.XPD.CHEX.PC.CD',\n",
    "    'GDP': 'NY.GDP.PCAP.CD',\n",
    "    'mortality': 'SH.DYN.MORT'\n",
    "}\n"
   ]
  },
  {
   "cell_type": "code",
   "execution_count": 382,
   "id": "a3ec536f",
   "metadata": {},
   "outputs": [],
   "source": [
    "vars = ['literacy', 'labor', 'mortality']\n",
    "# independent variables + dependent variable (mortality)"
   ]
  },
  {
   "cell_type": "code",
   "execution_count": 383,
   "id": "e3f98a8e",
   "metadata": {},
   "outputs": [
    {
     "ename": "APIResponseError",
     "evalue": "APIError: JSON decoding error (https://api.worldbank.org/v2/en/sources/2/series/SE.ADT.LITR.FE.ZS/country/all/time/all?per_page=1000&page=12&format=json)",
     "output_type": "error",
     "traceback": [
      "\u001b[1;31m---------------------------------------------------------------------------\u001b[0m",
      "\u001b[1;31mJSONDecodeError\u001b[0m                           Traceback (most recent call last)",
      "File \u001b[1;32m~\\AppData\\Local\\Packages\\PythonSoftwareFoundation.Python.3.10_qbz5n2kfra8p0\\LocalCache\\local-packages\\Python310\\site-packages\\requests\\models.py:960\u001b[0m, in \u001b[0;36mResponse.json\u001b[1;34m(self, **kwargs)\u001b[0m\n\u001b[0;32m    959\u001b[0m \u001b[39mtry\u001b[39;00m:\n\u001b[1;32m--> 960\u001b[0m     \u001b[39mreturn\u001b[39;00m complexjson\u001b[39m.\u001b[39mloads(\u001b[39mself\u001b[39m\u001b[39m.\u001b[39mcontent\u001b[39m.\u001b[39mdecode(encoding), \u001b[39m*\u001b[39m\u001b[39m*\u001b[39mkwargs)\n\u001b[0;32m    961\u001b[0m \u001b[39mexcept\u001b[39;00m \u001b[39mUnicodeDecodeError\u001b[39;00m:\n\u001b[0;32m    962\u001b[0m     \u001b[39m# Wrong UTF codec detected; usually because it's not UTF-8\u001b[39;00m\n\u001b[0;32m    963\u001b[0m     \u001b[39m# but some other 8-bit codec.  This is an RFC violation,\u001b[39;00m\n\u001b[0;32m    964\u001b[0m     \u001b[39m# and the server didn't bother to tell us what codec *was*\u001b[39;00m\n\u001b[0;32m    965\u001b[0m     \u001b[39m# used.\u001b[39;00m\n",
      "File \u001b[1;32mC:\\Program Files\\WindowsApps\\PythonSoftwareFoundation.Python.3.10_3.10.2288.0_x64__qbz5n2kfra8p0\\lib\\json\\__init__.py:346\u001b[0m, in \u001b[0;36mloads\u001b[1;34m(s, cls, object_hook, parse_float, parse_int, parse_constant, object_pairs_hook, **kw)\u001b[0m\n\u001b[0;32m    343\u001b[0m \u001b[39mif\u001b[39;00m (\u001b[39mcls\u001b[39m \u001b[39mis\u001b[39;00m \u001b[39mNone\u001b[39;00m \u001b[39mand\u001b[39;00m object_hook \u001b[39mis\u001b[39;00m \u001b[39mNone\u001b[39;00m \u001b[39mand\u001b[39;00m\n\u001b[0;32m    344\u001b[0m         parse_int \u001b[39mis\u001b[39;00m \u001b[39mNone\u001b[39;00m \u001b[39mand\u001b[39;00m parse_float \u001b[39mis\u001b[39;00m \u001b[39mNone\u001b[39;00m \u001b[39mand\u001b[39;00m\n\u001b[0;32m    345\u001b[0m         parse_constant \u001b[39mis\u001b[39;00m \u001b[39mNone\u001b[39;00m \u001b[39mand\u001b[39;00m object_pairs_hook \u001b[39mis\u001b[39;00m \u001b[39mNone\u001b[39;00m \u001b[39mand\u001b[39;00m \u001b[39mnot\u001b[39;00m kw):\n\u001b[1;32m--> 346\u001b[0m     \u001b[39mreturn\u001b[39;00m _default_decoder\u001b[39m.\u001b[39;49mdecode(s)\n\u001b[0;32m    347\u001b[0m \u001b[39mif\u001b[39;00m \u001b[39mcls\u001b[39m \u001b[39mis\u001b[39;00m \u001b[39mNone\u001b[39;00m:\n",
      "File \u001b[1;32mC:\\Program Files\\WindowsApps\\PythonSoftwareFoundation.Python.3.10_3.10.2288.0_x64__qbz5n2kfra8p0\\lib\\json\\decoder.py:337\u001b[0m, in \u001b[0;36mJSONDecoder.decode\u001b[1;34m(self, s, _w)\u001b[0m\n\u001b[0;32m    333\u001b[0m \u001b[39m\"\"\"Return the Python representation of ``s`` (a ``str`` instance\u001b[39;00m\n\u001b[0;32m    334\u001b[0m \u001b[39mcontaining a JSON document).\u001b[39;00m\n\u001b[0;32m    335\u001b[0m \n\u001b[0;32m    336\u001b[0m \u001b[39m\"\"\"\u001b[39;00m\n\u001b[1;32m--> 337\u001b[0m obj, end \u001b[39m=\u001b[39m \u001b[39mself\u001b[39;49m\u001b[39m.\u001b[39;49mraw_decode(s, idx\u001b[39m=\u001b[39;49m_w(s, \u001b[39m0\u001b[39;49m)\u001b[39m.\u001b[39;49mend())\n\u001b[0;32m    338\u001b[0m end \u001b[39m=\u001b[39m _w(s, end)\u001b[39m.\u001b[39mend()\n",
      "File \u001b[1;32mC:\\Program Files\\WindowsApps\\PythonSoftwareFoundation.Python.3.10_3.10.2288.0_x64__qbz5n2kfra8p0\\lib\\json\\decoder.py:355\u001b[0m, in \u001b[0;36mJSONDecoder.raw_decode\u001b[1;34m(self, s, idx)\u001b[0m\n\u001b[0;32m    354\u001b[0m \u001b[39mexcept\u001b[39;00m \u001b[39mStopIteration\u001b[39;00m \u001b[39mas\u001b[39;00m err:\n\u001b[1;32m--> 355\u001b[0m     \u001b[39mraise\u001b[39;00m JSONDecodeError(\u001b[39m\"\u001b[39m\u001b[39mExpecting value\u001b[39m\u001b[39m\"\u001b[39m, s, err\u001b[39m.\u001b[39mvalue) \u001b[39mfrom\u001b[39;00m \u001b[39mNone\u001b[39m\n\u001b[0;32m    356\u001b[0m \u001b[39mreturn\u001b[39;00m obj, end\n",
      "\u001b[1;31mJSONDecodeError\u001b[0m: Expecting value: line 2 column 9 (char 9)",
      "\nDuring handling of the above exception, another exception occurred:\n",
      "\u001b[1;31mJSONDecodeError\u001b[0m                           Traceback (most recent call last)",
      "File \u001b[1;32m~\\AppData\\Local\\Packages\\PythonSoftwareFoundation.Python.3.10_qbz5n2kfra8p0\\LocalCache\\local-packages\\Python310\\site-packages\\wbgapi\\__init__.py:533\u001b[0m, in \u001b[0;36m_queryAPI\u001b[1;34m(url)\u001b[0m\n\u001b[0;32m    532\u001b[0m \u001b[39mtry\u001b[39;00m:\n\u001b[1;32m--> 533\u001b[0m     result \u001b[39m=\u001b[39m response\u001b[39m.\u001b[39;49mjson()\n\u001b[0;32m    534\u001b[0m \u001b[39mexcept\u001b[39;00m:\n",
      "File \u001b[1;32m~\\AppData\\Local\\Packages\\PythonSoftwareFoundation.Python.3.10_qbz5n2kfra8p0\\LocalCache\\local-packages\\Python310\\site-packages\\requests\\models.py:968\u001b[0m, in \u001b[0;36mResponse.json\u001b[1;34m(self, **kwargs)\u001b[0m\n\u001b[0;32m    967\u001b[0m         \u001b[39mexcept\u001b[39;00m JSONDecodeError \u001b[39mas\u001b[39;00m e:\n\u001b[1;32m--> 968\u001b[0m             \u001b[39mraise\u001b[39;00m RequestsJSONDecodeError(e\u001b[39m.\u001b[39mmsg, e\u001b[39m.\u001b[39mdoc, e\u001b[39m.\u001b[39mpos)\n\u001b[0;32m    970\u001b[0m \u001b[39mtry\u001b[39;00m:\n",
      "\u001b[1;31mJSONDecodeError\u001b[0m: Expecting value: line 2 column 9 (char 9)",
      "\nDuring handling of the above exception, another exception occurred:\n",
      "\u001b[1;31mAPIResponseError\u001b[0m                          Traceback (most recent call last)",
      "Cell \u001b[1;32mIn [383], line 1\u001b[0m\n\u001b[1;32m----> 1\u001b[0m dfs \u001b[39m=\u001b[39m [pd\u001b[39m.\u001b[39mDataFrame(\u001b[39mlist\u001b[39m(wb\u001b[39m.\u001b[39mdata\u001b[39m.\u001b[39mfetch(api))) \u001b[39mfor\u001b[39;00m api \u001b[39min\u001b[39;00m [var_apis[var] \u001b[39mfor\u001b[39;00m var \u001b[39min\u001b[39;00m \u001b[39mvars\u001b[39m]]\n",
      "Cell \u001b[1;32mIn [383], line 1\u001b[0m, in \u001b[0;36m<listcomp>\u001b[1;34m(.0)\u001b[0m\n\u001b[1;32m----> 1\u001b[0m dfs \u001b[39m=\u001b[39m [pd\u001b[39m.\u001b[39mDataFrame(\u001b[39mlist\u001b[39;49m(wb\u001b[39m.\u001b[39;49mdata\u001b[39m.\u001b[39;49mfetch(api))) \u001b[39mfor\u001b[39;00m api \u001b[39min\u001b[39;00m [var_apis[var] \u001b[39mfor\u001b[39;00m var \u001b[39min\u001b[39;00m \u001b[39mvars\u001b[39m]]\n",
      "File \u001b[1;32m~\\AppData\\Local\\Packages\\PythonSoftwareFoundation.Python.3.10_qbz5n2kfra8p0\\LocalCache\\local-packages\\Python310\\site-packages\\wbgapi\\data.py:92\u001b[0m, in \u001b[0;36mfetch\u001b[1;34m(series, economy, time, mrv, mrnev, skipBlanks, labels, skipAggs, numericTimeKeys, params, db, **dimensions)\u001b[0m\n\u001b[0;32m     88\u001b[0m     values[k] \u001b[39m=\u001b[39m w\u001b[39m.\u001b[39mqueryParam(v, concept\u001b[39m=\u001b[39mk, db\u001b[39m=\u001b[39mdb)\n\u001b[0;32m     90\u001b[0m aggs \u001b[39m=\u001b[39m w\u001b[39m.\u001b[39meconomy\u001b[39m.\u001b[39maggregates()\n\u001b[1;32m---> 92\u001b[0m \u001b[39mfor\u001b[39;00m row \u001b[39min\u001b[39;00m w\u001b[39m.\u001b[39mrefetch(url, keys, params\u001b[39m=\u001b[39mparams_, \u001b[39m*\u001b[39m\u001b[39m*\u001b[39mvalues):\n\u001b[0;32m     93\u001b[0m     \u001b[39mif\u001b[39;00m skipBlanks \u001b[39mand\u001b[39;00m row[\u001b[39m'\u001b[39m\u001b[39mvalue\u001b[39m\u001b[39m'\u001b[39m] \u001b[39mis\u001b[39;00m \u001b[39mNone\u001b[39;00m:\n\u001b[0;32m     94\u001b[0m         \u001b[39mcontinue\u001b[39;00m\n",
      "File \u001b[1;32m~\\AppData\\Local\\Packages\\PythonSoftwareFoundation.Python.3.10_qbz5n2kfra8p0\\LocalCache\\local-packages\\Python310\\site-packages\\wbgapi\\__init__.py:322\u001b[0m, in \u001b[0;36mrefetch\u001b[1;34m(url, variables, **kwargs)\u001b[0m\n\u001b[0;32m    320\u001b[0m \u001b[39mtry\u001b[39;00m:\n\u001b[0;32m    321\u001b[0m     \u001b[39mfor\u001b[39;00m url2 \u001b[39min\u001b[39;00m _refetch_url(url, variables[\u001b[39m0\u001b[39m], variables[\u001b[39m1\u001b[39m:], \u001b[39m*\u001b[39m\u001b[39m*\u001b[39mkwargs):\n\u001b[1;32m--> 322\u001b[0m         \u001b[39mfor\u001b[39;00m row \u001b[39min\u001b[39;00m fetch(url2, params, concepts, lang):\n\u001b[0;32m    323\u001b[0m             \u001b[39myield\u001b[39;00m row\n\u001b[0;32m    324\u001b[0m \u001b[39mexcept\u001b[39;00m URLError:\n",
      "File \u001b[1;32m~\\AppData\\Local\\Packages\\PythonSoftwareFoundation.Python.3.10_qbz5n2kfra8p0\\LocalCache\\local-packages\\Python310\\site-packages\\wbgapi\\__init__.py:281\u001b[0m, in \u001b[0;36mfetch\u001b[1;34m(url, params, concepts, lang)\u001b[0m\n\u001b[0;32m    278\u001b[0m \u001b[39mwhile\u001b[39;00m totalRecords \u001b[39mis\u001b[39;00m \u001b[39mNone\u001b[39;00m \u001b[39mor\u001b[39;00m recordsRead \u001b[39m<\u001b[39m totalRecords:\n\u001b[0;32m    280\u001b[0m     url_ \u001b[39m=\u001b[39m \u001b[39m'\u001b[39m\u001b[39m{}\u001b[39;00m\u001b[39m/\u001b[39m\u001b[39m{}\u001b[39;00m\u001b[39m/\u001b[39m\u001b[39m{}\u001b[39;00m\u001b[39m?\u001b[39m\u001b[39m{}\u001b[39;00m\u001b[39m'\u001b[39m\u001b[39m.\u001b[39mformat(endpoint, lang, url, urllib\u001b[39m.\u001b[39mparse\u001b[39m.\u001b[39murlencode(params_))\n\u001b[1;32m--> 281\u001b[0m     (hdr,result) \u001b[39m=\u001b[39m _queryAPI(url_)\n\u001b[0;32m    283\u001b[0m     \u001b[39mif\u001b[39;00m totalRecords \u001b[39mis\u001b[39;00m \u001b[39mNone\u001b[39;00m:\n\u001b[0;32m    284\u001b[0m         totalRecords \u001b[39m=\u001b[39m \u001b[39mint\u001b[39m(hdr[\u001b[39m'\u001b[39m\u001b[39mtotal\u001b[39m\u001b[39m'\u001b[39m])\n",
      "File \u001b[1;32m~\\AppData\\Local\\Packages\\PythonSoftwareFoundation.Python.3.10_qbz5n2kfra8p0\\LocalCache\\local-packages\\Python310\\site-packages\\wbgapi\\__init__.py:535\u001b[0m, in \u001b[0;36m_queryAPI\u001b[1;34m(url)\u001b[0m\n\u001b[0;32m    533\u001b[0m     result \u001b[39m=\u001b[39m response\u001b[39m.\u001b[39mjson()\n\u001b[0;32m    534\u001b[0m \u001b[39mexcept\u001b[39;00m:\n\u001b[1;32m--> 535\u001b[0m     \u001b[39mraise\u001b[39;00m APIResponseError(url, \u001b[39m'\u001b[39m\u001b[39mJSON decoding error\u001b[39m\u001b[39m'\u001b[39m)\n\u001b[0;32m    537\u001b[0m hdr \u001b[39m=\u001b[39m _responseHeader(url, result)\n\u001b[0;32m    538\u001b[0m \u001b[39mif\u001b[39;00m hdr\u001b[39m.\u001b[39mget(\u001b[39m'\u001b[39m\u001b[39mmessage\u001b[39m\u001b[39m'\u001b[39m):\n",
      "\u001b[1;31mAPIResponseError\u001b[0m: APIError: JSON decoding error (https://api.worldbank.org/v2/en/sources/2/series/SE.ADT.LITR.FE.ZS/country/all/time/all?per_page=1000&page=12&format=json)"
     ]
    }
   ],
   "source": [
    "dfs = [pd.DataFrame(list(wb.data.fetch(api))) for api in [var_apis[var] for var in vars]]"
   ]
  },
  {
   "cell_type": "code",
   "execution_count": null,
   "id": "01bfd781-552b-4005-bc26-f3d3a7008e2e",
   "metadata": {},
   "outputs": [
    {
     "name": "stdout",
     "output_type": "stream",
     "text": [
      "                            OLS Regression Results                            \n",
      "==============================================================================\n",
      "Dep. Variable:              mortality   R-squared:                       0.977\n",
      "Model:                            OLS   Adj. R-squared:                  0.973\n",
      "Method:                 Least Squares   F-statistic:                     252.1\n",
      "Date:                Thu, 03 Nov 2022   Prob (F-statistic):           1.58e-10\n",
      "Time:                        23:52:45   Log-Likelihood:                -33.794\n",
      "No. Observations:                  15   AIC:                             73.59\n",
      "Df Residuals:                      12   BIC:                             75.71\n",
      "Df Model:                           2                                         \n",
      "Covariance Type:            nonrobust                                         \n",
      "==============================================================================\n",
      "                 coef    std err          t      P>|t|      [0.025      0.975]\n",
      "------------------------------------------------------------------------------\n",
      "Intercept    147.9560      8.876     16.669      0.000     128.617     167.295\n",
      "literacy      -2.5550      0.116    -21.950      0.000      -2.809      -2.301\n",
      "labor          3.2195      0.334      9.643      0.000       2.492       3.947\n",
      "==============================================================================\n",
      "Omnibus:                        0.492   Durbin-Watson:                   0.552\n",
      "Prob(Omnibus):                  0.782   Jarque-Bera (JB):                0.540\n",
      "Skew:                          -0.066   Prob(JB):                        0.763\n",
      "Kurtosis:                       2.080   Cond. No.                     1.23e+03\n",
      "==============================================================================\n",
      "\n",
      "Notes:\n",
      "[1] Standard Errors assume that the covariance matrix of the errors is correctly specified.\n",
      "[2] The condition number is large, 1.23e+03. This might indicate that there are\n",
      "strong multicollinearity or other numerical problems.\n"
     ]
    },
    {
     "name": "stderr",
     "output_type": "stream",
     "text": [
      "C:\\Users\\sahin\\AppData\\Local\\Packages\\PythonSoftwareFoundation.Python.3.10_qbz5n2kfra8p0\\LocalCache\\local-packages\\Python310\\site-packages\\scipy\\stats\\_stats_py.py:1772: UserWarning: kurtosistest only valid for n>=20 ... continuing anyway, n=15\n",
      "  warnings.warn(\"kurtosistest only valid for n>=20 ... continuing \"\n"
     ]
    }
   ],
   "source": [
    "res = vars_mor('TUR', dfs, vars)\n",
    "model = ols('mortality ~ literacy + labor', data=res).fit()\n",
    "print(model.summary())"
   ]
  },
  {
   "cell_type": "markdown",
   "id": "1af3d05f-26e8-4e21-8cc8-5df66f63f49e",
   "metadata": {},
   "source": [
    "# Question 2\n",
    "\n",
    "For this question use Yahoo's Finance API for the following tickers:\n",
    "\n",
    "* Gold futures (GC=F)\n",
    "* Silver futures (SI=F)\n",
    "* Copper futures (HG=F)\n",
    "* Platinum futures (PL=F)\n",
    "\n",
    "1. Write the best linear regression model that explains gold futures closing prices in terms of opening prices of gold, silver, copper, and platinum futures.\n",
    "2. Repeat the same for silver, copper and platinum prices.\n",
    "3. Compare the models you obtained in Steps 1 and 2. Which model is better? How do you decide? Explain."
   ]
  },
  {
   "cell_type": "code",
   "execution_count": null,
   "id": "1ce8fdb3",
   "metadata": {},
   "outputs": [],
   "source": [
    "def tickers_openning(x, ftickers, fticker_names):\n",
    "    tmp = {}\n",
    "    tmp['GCF_o'] = ftickers[0]['Open']\n",
    "    tmp['SIF_o'] = ftickers[1]['Open']\n",
    "    tmp['HGF_o'] = ftickers[2]['Open']\n",
    "    tmp['PLF_o'] = ftickers[3]['Open']\n",
    "    tmp[x[:-2]+x[-1]+'_c'] = ftickers[fticker_names.index(x)]['Close']\n",
    "\n",
    "    data = pd.DataFrame(tmp).dropna()\n",
    "\n",
    "    return data"
   ]
  },
  {
   "cell_type": "code",
   "execution_count": null,
   "id": "72a648a4",
   "metadata": {},
   "outputs": [
    {
     "name": "stdout",
     "output_type": "stream",
     "text": [
      "[*********************100%***********************]  1 of 1 completed\n",
      "[*********************100%***********************]  1 of 1 completed\n",
      "[*********************100%***********************]  1 of 1 completed\n",
      "[*********************100%***********************]  1 of 1 completed\n"
     ]
    }
   ],
   "source": [
    "fticker_names = ['GC=F', 'SI=F', 'HG=F', 'PL=F']\n",
    "ftickers = [yf.download(ticker) for ticker in fticker_names]"
   ]
  },
  {
   "cell_type": "code",
   "execution_count": null,
   "id": "ae6f4cfc",
   "metadata": {},
   "outputs": [
    {
     "data": {
      "text/html": [
       "<div>\n",
       "<style scoped>\n",
       "    .dataframe tbody tr th:only-of-type {\n",
       "        vertical-align: middle;\n",
       "    }\n",
       "\n",
       "    .dataframe tbody tr th {\n",
       "        vertical-align: top;\n",
       "    }\n",
       "\n",
       "    .dataframe thead th {\n",
       "        text-align: right;\n",
       "    }\n",
       "</style>\n",
       "<table border=\"1\" class=\"dataframe\">\n",
       "  <thead>\n",
       "    <tr style=\"text-align: right;\">\n",
       "      <th></th>\n",
       "      <th>GCF_o</th>\n",
       "      <th>SIF_o</th>\n",
       "      <th>HGF_o</th>\n",
       "      <th>PLF_o</th>\n",
       "      <th>GCF_c</th>\n",
       "    </tr>\n",
       "    <tr>\n",
       "      <th>Date</th>\n",
       "      <th></th>\n",
       "      <th></th>\n",
       "      <th></th>\n",
       "      <th></th>\n",
       "      <th></th>\n",
       "    </tr>\n",
       "  </thead>\n",
       "  <tbody>\n",
       "    <tr>\n",
       "      <th>2000-08-30</th>\n",
       "      <td>273.899994</td>\n",
       "      <td>4.950000</td>\n",
       "      <td>0.8790</td>\n",
       "      <td>593.900024</td>\n",
       "      <td>273.899994</td>\n",
       "    </tr>\n",
       "    <tr>\n",
       "      <th>2000-08-31</th>\n",
       "      <td>274.799988</td>\n",
       "      <td>4.920000</td>\n",
       "      <td>0.8850</td>\n",
       "      <td>589.000000</td>\n",
       "      <td>278.299988</td>\n",
       "    </tr>\n",
       "    <tr>\n",
       "      <th>2000-09-01</th>\n",
       "      <td>277.000000</td>\n",
       "      <td>5.035000</td>\n",
       "      <td>0.8780</td>\n",
       "      <td>588.000000</td>\n",
       "      <td>277.000000</td>\n",
       "    </tr>\n",
       "    <tr>\n",
       "      <th>2000-09-05</th>\n",
       "      <td>275.799988</td>\n",
       "      <td>4.990000</td>\n",
       "      <td>0.8960</td>\n",
       "      <td>602.000000</td>\n",
       "      <td>275.799988</td>\n",
       "    </tr>\n",
       "    <tr>\n",
       "      <th>2000-09-06</th>\n",
       "      <td>274.200012</td>\n",
       "      <td>5.000000</td>\n",
       "      <td>0.9050</td>\n",
       "      <td>603.000000</td>\n",
       "      <td>274.200012</td>\n",
       "    </tr>\n",
       "    <tr>\n",
       "      <th>...</th>\n",
       "      <td>...</td>\n",
       "      <td>...</td>\n",
       "      <td>...</td>\n",
       "      <td>...</td>\n",
       "      <td>...</td>\n",
       "    </tr>\n",
       "    <tr>\n",
       "      <th>2022-10-28</th>\n",
       "      <td>1661.000000</td>\n",
       "      <td>19.500000</td>\n",
       "      <td>3.5375</td>\n",
       "      <td>958.400024</td>\n",
       "      <td>1639.599976</td>\n",
       "    </tr>\n",
       "    <tr>\n",
       "      <th>2022-10-31</th>\n",
       "      <td>1641.800049</td>\n",
       "      <td>19.200001</td>\n",
       "      <td>3.4095</td>\n",
       "      <td>939.400024</td>\n",
       "      <td>1635.900024</td>\n",
       "    </tr>\n",
       "    <tr>\n",
       "      <th>2022-11-01</th>\n",
       "      <td>1630.800049</td>\n",
       "      <td>19.125000</td>\n",
       "      <td>3.4945</td>\n",
       "      <td>959.799988</td>\n",
       "      <td>1645.000000</td>\n",
       "    </tr>\n",
       "    <tr>\n",
       "      <th>2022-11-02</th>\n",
       "      <td>1650.800049</td>\n",
       "      <td>19.780001</td>\n",
       "      <td>3.4985</td>\n",
       "      <td>960.200012</td>\n",
       "      <td>1645.699951</td>\n",
       "    </tr>\n",
       "    <tr>\n",
       "      <th>2022-11-03</th>\n",
       "      <td>1639.099976</td>\n",
       "      <td>19.230000</td>\n",
       "      <td>3.4395</td>\n",
       "      <td>935.000000</td>\n",
       "      <td>1632.199951</td>\n",
       "    </tr>\n",
       "  </tbody>\n",
       "</table>\n",
       "<p>4863 rows × 5 columns</p>\n",
       "</div>"
      ],
      "text/plain": [
       "                  GCF_o      SIF_o   HGF_o       PLF_o        GCF_c\n",
       "Date                                                               \n",
       "2000-08-30   273.899994   4.950000  0.8790  593.900024   273.899994\n",
       "2000-08-31   274.799988   4.920000  0.8850  589.000000   278.299988\n",
       "2000-09-01   277.000000   5.035000  0.8780  588.000000   277.000000\n",
       "2000-09-05   275.799988   4.990000  0.8960  602.000000   275.799988\n",
       "2000-09-06   274.200012   5.000000  0.9050  603.000000   274.200012\n",
       "...                 ...        ...     ...         ...          ...\n",
       "2022-10-28  1661.000000  19.500000  3.5375  958.400024  1639.599976\n",
       "2022-10-31  1641.800049  19.200001  3.4095  939.400024  1635.900024\n",
       "2022-11-01  1630.800049  19.125000  3.4945  959.799988  1645.000000\n",
       "2022-11-02  1650.800049  19.780001  3.4985  960.200012  1645.699951\n",
       "2022-11-03  1639.099976  19.230000  3.4395  935.000000  1632.199951\n",
       "\n",
       "[4863 rows x 5 columns]"
      ]
     },
     "execution_count": 38,
     "metadata": {},
     "output_type": "execute_result"
    }
   ],
   "source": [
    "[gcfc, sifc, hgfc, plfc] = [tickers_openning(x, ftickers, fticker_names) for x in fticker_names]\n",
    "gcfc\n"
   ]
  },
  {
   "cell_type": "markdown",
   "id": "cbb8870a",
   "metadata": {},
   "source": [
    "### Linear regression models that explains GC = F"
   ]
  },
  {
   "cell_type": "code",
   "execution_count": null,
   "id": "794ee787",
   "metadata": {},
   "outputs": [
    {
     "data": {
      "text/html": [
       "<table class=\"simpletable\">\n",
       "<caption>OLS Regression Results</caption>\n",
       "<tr>\n",
       "  <th>Dep. Variable:</th>          <td>GCF_c</td>      <th>  R-squared:         </th> <td>   0.878</td> \n",
       "</tr>\n",
       "<tr>\n",
       "  <th>Model:</th>                   <td>OLS</td>       <th>  Adj. R-squared:    </th> <td>   0.878</td> \n",
       "</tr>\n",
       "<tr>\n",
       "  <th>Method:</th>             <td>Least Squares</td>  <th>  F-statistic:       </th> <td>1.167e+04</td>\n",
       "</tr>\n",
       "<tr>\n",
       "  <th>Date:</th>             <td>Fri, 04 Nov 2022</td> <th>  Prob (F-statistic):</th>  <td>  0.00</td>  \n",
       "</tr>\n",
       "<tr>\n",
       "  <th>Time:</th>                 <td>00:04:22</td>     <th>  Log-Likelihood:    </th> <td> -32171.</td> \n",
       "</tr>\n",
       "<tr>\n",
       "  <th>No. Observations:</th>      <td>  4863</td>      <th>  AIC:               </th> <td>6.435e+04</td>\n",
       "</tr>\n",
       "<tr>\n",
       "  <th>Df Residuals:</th>          <td>  4859</td>      <th>  BIC:               </th> <td>6.438e+04</td>\n",
       "</tr>\n",
       "<tr>\n",
       "  <th>Df Model:</th>              <td>     3</td>      <th>                     </th>     <td> </td>    \n",
       "</tr>\n",
       "<tr>\n",
       "  <th>Covariance Type:</th>      <td>nonrobust</td>    <th>                     </th>     <td> </td>    \n",
       "</tr>\n",
       "</table>\n",
       "<table class=\"simpletable\">\n",
       "<tr>\n",
       "      <td></td>         <th>coef</th>     <th>std err</th>      <th>t</th>      <th>P>|t|</th>  <th>[0.025</th>    <th>0.975]</th>  \n",
       "</tr>\n",
       "<tr>\n",
       "  <th>Intercept</th> <td>  431.4354</td> <td>    8.454</td> <td>   51.030</td> <td> 0.000</td> <td>  414.861</td> <td>  448.010</td>\n",
       "</tr>\n",
       "<tr>\n",
       "  <th>SIF_o</th>     <td>   49.1478</td> <td>    0.617</td> <td>   79.611</td> <td> 0.000</td> <td>   47.938</td> <td>   50.358</td>\n",
       "</tr>\n",
       "<tr>\n",
       "  <th>HGF_o</th>     <td>  228.9932</td> <td>    4.671</td> <td>   49.030</td> <td> 0.000</td> <td>  219.837</td> <td>  238.150</td>\n",
       "</tr>\n",
       "<tr>\n",
       "  <th>PLF_o</th>     <td>   -0.6944</td> <td>    0.011</td> <td>  -61.116</td> <td> 0.000</td> <td>   -0.717</td> <td>   -0.672</td>\n",
       "</tr>\n",
       "</table>\n",
       "<table class=\"simpletable\">\n",
       "<tr>\n",
       "  <th>Omnibus:</th>       <td>375.758</td> <th>  Durbin-Watson:     </th> <td>   0.023</td> \n",
       "</tr>\n",
       "<tr>\n",
       "  <th>Prob(Omnibus):</th> <td> 0.000</td>  <th>  Jarque-Bera (JB):  </th> <td> 873.215</td> \n",
       "</tr>\n",
       "<tr>\n",
       "  <th>Skew:</th>          <td>-0.478</td>  <th>  Prob(JB):          </th> <td>2.42e-190</td>\n",
       "</tr>\n",
       "<tr>\n",
       "  <th>Kurtosis:</th>      <td> 4.843</td>  <th>  Cond. No.          </th> <td>3.78e+03</td> \n",
       "</tr>\n",
       "</table><br/><br/>Notes:<br/>[1] Standard Errors assume that the covariance matrix of the errors is correctly specified.<br/>[2] The condition number is large, 3.78e+03. This might indicate that there are<br/>strong multicollinearity or other numerical problems."
      ],
      "text/plain": [
       "<class 'statsmodels.iolib.summary.Summary'>\n",
       "\"\"\"\n",
       "                            OLS Regression Results                            \n",
       "==============================================================================\n",
       "Dep. Variable:                  GCF_c   R-squared:                       0.878\n",
       "Model:                            OLS   Adj. R-squared:                  0.878\n",
       "Method:                 Least Squares   F-statistic:                 1.167e+04\n",
       "Date:                Fri, 04 Nov 2022   Prob (F-statistic):               0.00\n",
       "Time:                        00:04:22   Log-Likelihood:                -32171.\n",
       "No. Observations:                4863   AIC:                         6.435e+04\n",
       "Df Residuals:                    4859   BIC:                         6.438e+04\n",
       "Df Model:                           3                                         \n",
       "Covariance Type:            nonrobust                                         \n",
       "==============================================================================\n",
       "                 coef    std err          t      P>|t|      [0.025      0.975]\n",
       "------------------------------------------------------------------------------\n",
       "Intercept    431.4354      8.454     51.030      0.000     414.861     448.010\n",
       "SIF_o         49.1478      0.617     79.611      0.000      47.938      50.358\n",
       "HGF_o        228.9932      4.671     49.030      0.000     219.837     238.150\n",
       "PLF_o         -0.6944      0.011    -61.116      0.000      -0.717      -0.672\n",
       "==============================================================================\n",
       "Omnibus:                      375.758   Durbin-Watson:                   0.023\n",
       "Prob(Omnibus):                  0.000   Jarque-Bera (JB):              873.215\n",
       "Skew:                          -0.478   Prob(JB):                    2.42e-190\n",
       "Kurtosis:                       4.843   Cond. No.                     3.78e+03\n",
       "==============================================================================\n",
       "\n",
       "Notes:\n",
       "[1] Standard Errors assume that the covariance matrix of the errors is correctly specified.\n",
       "[2] The condition number is large, 3.78e+03. This might indicate that there are\n",
       "strong multicollinearity or other numerical problems.\n",
       "\"\"\""
      ]
     },
     "metadata": {},
     "output_type": "display_data"
    }
   ],
   "source": [
    "model = ols('GCF_c ~ SIF_o + HGF_o + PLF_o', data=gcfc).fit()\n",
    "display(model.summary())"
   ]
  },
  {
   "cell_type": "markdown",
   "id": "dd10e5e8",
   "metadata": {},
   "source": [
    "### Linear regression models that explains SI = F"
   ]
  },
  {
   "cell_type": "code",
   "execution_count": null,
   "id": "346dd183",
   "metadata": {},
   "outputs": [
    {
     "data": {
      "text/html": [
       "<table class=\"simpletable\">\n",
       "<caption>OLS Regression Results</caption>\n",
       "<tr>\n",
       "  <th>Dep. Variable:</th>          <td>SIF_c</td>      <th>  R-squared:         </th> <td>   0.898</td> \n",
       "</tr>\n",
       "<tr>\n",
       "  <th>Model:</th>                   <td>OLS</td>       <th>  Adj. R-squared:    </th> <td>   0.898</td> \n",
       "</tr>\n",
       "<tr>\n",
       "  <th>Method:</th>             <td>Least Squares</td>  <th>  F-statistic:       </th> <td>1.431e+04</td>\n",
       "</tr>\n",
       "<tr>\n",
       "  <th>Date:</th>             <td>Fri, 04 Nov 2022</td> <th>  Prob (F-statistic):</th>  <td>  0.00</td>  \n",
       "</tr>\n",
       "<tr>\n",
       "  <th>Time:</th>                 <td>00:04:25</td>     <th>  Log-Likelihood:    </th> <td> -11839.</td> \n",
       "</tr>\n",
       "<tr>\n",
       "  <th>No. Observations:</th>      <td>  4863</td>      <th>  AIC:               </th> <td>2.369e+04</td>\n",
       "</tr>\n",
       "<tr>\n",
       "  <th>Df Residuals:</th>          <td>  4859</td>      <th>  BIC:               </th> <td>2.371e+04</td>\n",
       "</tr>\n",
       "<tr>\n",
       "  <th>Df Model:</th>              <td>     3</td>      <th>                     </th>     <td> </td>    \n",
       "</tr>\n",
       "<tr>\n",
       "  <th>Covariance Type:</th>      <td>nonrobust</td>    <th>                     </th>     <td> </td>    \n",
       "</tr>\n",
       "</table>\n",
       "<table class=\"simpletable\">\n",
       "<tr>\n",
       "      <td></td>         <th>coef</th>     <th>std err</th>      <th>t</th>      <th>P>|t|</th>  <th>[0.025</th>    <th>0.975]</th>  \n",
       "</tr>\n",
       "<tr>\n",
       "  <th>Intercept</th> <td>   -6.5911</td> <td>    0.129</td> <td>  -50.995</td> <td> 0.000</td> <td>   -6.845</td> <td>   -6.338</td>\n",
       "</tr>\n",
       "<tr>\n",
       "  <th>GCF_o</th>     <td>    0.0115</td> <td>    0.000</td> <td>   79.577</td> <td> 0.000</td> <td>    0.011</td> <td>    0.012</td>\n",
       "</tr>\n",
       "<tr>\n",
       "  <th>HGF_o</th>     <td>   -0.4496</td> <td>    0.087</td> <td>   -5.167</td> <td> 0.000</td> <td>   -0.620</td> <td>   -0.279</td>\n",
       "</tr>\n",
       "<tr>\n",
       "  <th>PLF_o</th>     <td>    0.0109</td> <td>    0.000</td> <td>   63.802</td> <td> 0.000</td> <td>    0.011</td> <td>    0.011</td>\n",
       "</tr>\n",
       "</table>\n",
       "<table class=\"simpletable\">\n",
       "<tr>\n",
       "  <th>Omnibus:</th>       <td>1298.959</td> <th>  Durbin-Watson:     </th> <td>   0.022</td>\n",
       "</tr>\n",
       "<tr>\n",
       "  <th>Prob(Omnibus):</th>  <td> 0.000</td>  <th>  Jarque-Bera (JB):  </th> <td>6387.300</td>\n",
       "</tr>\n",
       "<tr>\n",
       "  <th>Skew:</th>           <td> 1.199</td>  <th>  Prob(JB):          </th> <td>    0.00</td>\n",
       "</tr>\n",
       "<tr>\n",
       "  <th>Kurtosis:</th>       <td> 8.076</td>  <th>  Cond. No.          </th> <td>5.44e+03</td>\n",
       "</tr>\n",
       "</table><br/><br/>Notes:<br/>[1] Standard Errors assume that the covariance matrix of the errors is correctly specified.<br/>[2] The condition number is large, 5.44e+03. This might indicate that there are<br/>strong multicollinearity or other numerical problems."
      ],
      "text/plain": [
       "<class 'statsmodels.iolib.summary.Summary'>\n",
       "\"\"\"\n",
       "                            OLS Regression Results                            \n",
       "==============================================================================\n",
       "Dep. Variable:                  SIF_c   R-squared:                       0.898\n",
       "Model:                            OLS   Adj. R-squared:                  0.898\n",
       "Method:                 Least Squares   F-statistic:                 1.431e+04\n",
       "Date:                Fri, 04 Nov 2022   Prob (F-statistic):               0.00\n",
       "Time:                        00:04:25   Log-Likelihood:                -11839.\n",
       "No. Observations:                4863   AIC:                         2.369e+04\n",
       "Df Residuals:                    4859   BIC:                         2.371e+04\n",
       "Df Model:                           3                                         \n",
       "Covariance Type:            nonrobust                                         \n",
       "==============================================================================\n",
       "                 coef    std err          t      P>|t|      [0.025      0.975]\n",
       "------------------------------------------------------------------------------\n",
       "Intercept     -6.5911      0.129    -50.995      0.000      -6.845      -6.338\n",
       "GCF_o          0.0115      0.000     79.577      0.000       0.011       0.012\n",
       "HGF_o         -0.4496      0.087     -5.167      0.000      -0.620      -0.279\n",
       "PLF_o          0.0109      0.000     63.802      0.000       0.011       0.011\n",
       "==============================================================================\n",
       "Omnibus:                     1298.959   Durbin-Watson:                   0.022\n",
       "Prob(Omnibus):                  0.000   Jarque-Bera (JB):             6387.300\n",
       "Skew:                           1.199   Prob(JB):                         0.00\n",
       "Kurtosis:                       8.076   Cond. No.                     5.44e+03\n",
       "==============================================================================\n",
       "\n",
       "Notes:\n",
       "[1] Standard Errors assume that the covariance matrix of the errors is correctly specified.\n",
       "[2] The condition number is large, 5.44e+03. This might indicate that there are\n",
       "strong multicollinearity or other numerical problems.\n",
       "\"\"\""
      ]
     },
     "metadata": {},
     "output_type": "display_data"
    }
   ],
   "source": [
    "model = ols('SIF_c ~ GCF_o + HGF_o + PLF_o', data=sifc).fit()\n",
    "display(model.summary())"
   ]
  },
  {
   "cell_type": "markdown",
   "id": "20409fb4",
   "metadata": {},
   "source": [
    "### Linear regression models that explains HG = F"
   ]
  },
  {
   "cell_type": "code",
   "execution_count": null,
   "id": "5c32b8ad",
   "metadata": {},
   "outputs": [
    {
     "data": {
      "text/html": [
       "<table class=\"simpletable\">\n",
       "<caption>OLS Regression Results</caption>\n",
       "<tr>\n",
       "  <th>Dep. Variable:</th>          <td>HGF_c</td>      <th>  R-squared:         </th> <td>   0.833</td>\n",
       "</tr>\n",
       "<tr>\n",
       "  <th>Model:</th>                   <td>OLS</td>       <th>  Adj. R-squared:    </th> <td>   0.833</td>\n",
       "</tr>\n",
       "<tr>\n",
       "  <th>Method:</th>             <td>Least Squares</td>  <th>  F-statistic:       </th> <td>   8059.</td>\n",
       "</tr>\n",
       "<tr>\n",
       "  <th>Date:</th>             <td>Fri, 04 Nov 2022</td> <th>  Prob (F-statistic):</th>  <td>  0.00</td> \n",
       "</tr>\n",
       "<tr>\n",
       "  <th>Time:</th>                 <td>00:04:28</td>     <th>  Log-Likelihood:    </th> <td> -3071.9</td>\n",
       "</tr>\n",
       "<tr>\n",
       "  <th>No. Observations:</th>      <td>  4863</td>      <th>  AIC:               </th> <td>   6152.</td>\n",
       "</tr>\n",
       "<tr>\n",
       "  <th>Df Residuals:</th>          <td>  4859</td>      <th>  BIC:               </th> <td>   6178.</td>\n",
       "</tr>\n",
       "<tr>\n",
       "  <th>Df Model:</th>              <td>     3</td>      <th>                     </th>     <td> </td>   \n",
       "</tr>\n",
       "<tr>\n",
       "  <th>Covariance Type:</th>      <td>nonrobust</td>    <th>                     </th>     <td> </td>   \n",
       "</tr>\n",
       "</table>\n",
       "<table class=\"simpletable\">\n",
       "<tr>\n",
       "      <td></td>         <th>coef</th>     <th>std err</th>      <th>t</th>      <th>P>|t|</th>  <th>[0.025</th>    <th>0.975]</th>  \n",
       "</tr>\n",
       "<tr>\n",
       "  <th>Intercept</th> <td>   -0.3248</td> <td>    0.026</td> <td>  -12.493</td> <td> 0.000</td> <td>   -0.376</td> <td>   -0.274</td>\n",
       "</tr>\n",
       "<tr>\n",
       "  <th>GCF_o</th>     <td>    0.0015</td> <td> 2.96e-05</td> <td>   49.005</td> <td> 0.000</td> <td>    0.001</td> <td>    0.002</td>\n",
       "</tr>\n",
       "<tr>\n",
       "  <th>SIF_o</th>     <td>   -0.0129</td> <td>    0.002</td> <td>   -5.453</td> <td> 0.000</td> <td>   -0.017</td> <td>   -0.008</td>\n",
       "</tr>\n",
       "<tr>\n",
       "  <th>PLF_o</th>     <td>    0.0015</td> <td> 3.18e-05</td> <td>   46.063</td> <td> 0.000</td> <td>    0.001</td> <td>    0.002</td>\n",
       "</tr>\n",
       "</table>\n",
       "<table class=\"simpletable\">\n",
       "<tr>\n",
       "  <th>Omnibus:</th>       <td>645.744</td> <th>  Durbin-Watson:     </th> <td>   0.014</td> \n",
       "</tr>\n",
       "<tr>\n",
       "  <th>Prob(Omnibus):</th> <td> 0.000</td>  <th>  Jarque-Bera (JB):  </th> <td> 956.449</td> \n",
       "</tr>\n",
       "<tr>\n",
       "  <th>Skew:</th>          <td> 0.974</td>  <th>  Prob(JB):          </th> <td>2.04e-208</td>\n",
       "</tr>\n",
       "<tr>\n",
       "  <th>Kurtosis:</th>      <td> 3.961</td>  <th>  Cond. No.          </th> <td>6.58e+03</td> \n",
       "</tr>\n",
       "</table><br/><br/>Notes:<br/>[1] Standard Errors assume that the covariance matrix of the errors is correctly specified.<br/>[2] The condition number is large, 6.58e+03. This might indicate that there are<br/>strong multicollinearity or other numerical problems."
      ],
      "text/plain": [
       "<class 'statsmodels.iolib.summary.Summary'>\n",
       "\"\"\"\n",
       "                            OLS Regression Results                            \n",
       "==============================================================================\n",
       "Dep. Variable:                  HGF_c   R-squared:                       0.833\n",
       "Model:                            OLS   Adj. R-squared:                  0.833\n",
       "Method:                 Least Squares   F-statistic:                     8059.\n",
       "Date:                Fri, 04 Nov 2022   Prob (F-statistic):               0.00\n",
       "Time:                        00:04:28   Log-Likelihood:                -3071.9\n",
       "No. Observations:                4863   AIC:                             6152.\n",
       "Df Residuals:                    4859   BIC:                             6178.\n",
       "Df Model:                           3                                         \n",
       "Covariance Type:            nonrobust                                         \n",
       "==============================================================================\n",
       "                 coef    std err          t      P>|t|      [0.025      0.975]\n",
       "------------------------------------------------------------------------------\n",
       "Intercept     -0.3248      0.026    -12.493      0.000      -0.376      -0.274\n",
       "GCF_o          0.0015   2.96e-05     49.005      0.000       0.001       0.002\n",
       "SIF_o         -0.0129      0.002     -5.453      0.000      -0.017      -0.008\n",
       "PLF_o          0.0015   3.18e-05     46.063      0.000       0.001       0.002\n",
       "==============================================================================\n",
       "Omnibus:                      645.744   Durbin-Watson:                   0.014\n",
       "Prob(Omnibus):                  0.000   Jarque-Bera (JB):              956.449\n",
       "Skew:                           0.974   Prob(JB):                    2.04e-208\n",
       "Kurtosis:                       3.961   Cond. No.                     6.58e+03\n",
       "==============================================================================\n",
       "\n",
       "Notes:\n",
       "[1] Standard Errors assume that the covariance matrix of the errors is correctly specified.\n",
       "[2] The condition number is large, 6.58e+03. This might indicate that there are\n",
       "strong multicollinearity or other numerical problems.\n",
       "\"\"\""
      ]
     },
     "metadata": {},
     "output_type": "display_data"
    }
   ],
   "source": [
    "model = ols('HGF_c ~ GCF_o + SIF_o + PLF_o', data=hgfc).fit()\n",
    "display(model.summary())"
   ]
  },
  {
   "cell_type": "markdown",
   "id": "70623f84",
   "metadata": {},
   "source": [
    "### Linear regression models that explains PL = F"
   ]
  },
  {
   "cell_type": "code",
   "execution_count": null,
   "id": "b7c02dd0",
   "metadata": {},
   "outputs": [
    {
     "data": {
      "text/html": [
       "<table class=\"simpletable\">\n",
       "<caption>OLS Regression Results</caption>\n",
       "<tr>\n",
       "  <th>Dep. Variable:</th>          <td>PLF_c</td>      <th>  R-squared:         </th> <td>   0.781</td> \n",
       "</tr>\n",
       "<tr>\n",
       "  <th>Model:</th>                   <td>OLS</td>       <th>  Adj. R-squared:    </th> <td>   0.780</td> \n",
       "</tr>\n",
       "<tr>\n",
       "  <th>Method:</th>             <td>Least Squares</td>  <th>  F-statistic:       </th> <td>   5762.</td> \n",
       "</tr>\n",
       "<tr>\n",
       "  <th>Date:</th>             <td>Fri, 04 Nov 2022</td> <th>  Prob (F-statistic):</th>  <td>  0.00</td>  \n",
       "</tr>\n",
       "<tr>\n",
       "  <th>Time:</th>                 <td>00:04:29</td>     <th>  Log-Likelihood:    </th> <td> -31920.</td> \n",
       "</tr>\n",
       "<tr>\n",
       "  <th>No. Observations:</th>      <td>  4863</td>      <th>  AIC:               </th> <td>6.385e+04</td>\n",
       "</tr>\n",
       "<tr>\n",
       "  <th>Df Residuals:</th>          <td>  4859</td>      <th>  BIC:               </th> <td>6.387e+04</td>\n",
       "</tr>\n",
       "<tr>\n",
       "  <th>Df Model:</th>              <td>     3</td>      <th>                     </th>     <td> </td>    \n",
       "</tr>\n",
       "<tr>\n",
       "  <th>Covariance Type:</th>      <td>nonrobust</td>    <th>                     </th>     <td> </td>    \n",
       "</tr>\n",
       "</table>\n",
       "<table class=\"simpletable\">\n",
       "<tr>\n",
       "      <td></td>         <th>coef</th>     <th>std err</th>      <th>t</th>      <th>P>|t|</th>  <th>[0.025</th>    <th>0.975]</th>  \n",
       "</tr>\n",
       "<tr>\n",
       "  <th>Intercept</th> <td>  524.4117</td> <td>    6.522</td> <td>   80.406</td> <td> 0.000</td> <td>  511.625</td> <td>  537.198</td>\n",
       "</tr>\n",
       "<tr>\n",
       "  <th>GCF_o</th>     <td>   -0.6274</td> <td>    0.010</td> <td>  -61.218</td> <td> 0.000</td> <td>   -0.647</td> <td>   -0.607</td>\n",
       "</tr>\n",
       "<tr>\n",
       "  <th>SIF_o</th>     <td>   41.9352</td> <td>    0.657</td> <td>   63.791</td> <td> 0.000</td> <td>   40.646</td> <td>   43.224</td>\n",
       "</tr>\n",
       "<tr>\n",
       "  <th>HGF_o</th>     <td>  207.9820</td> <td>    4.526</td> <td>   45.948</td> <td> 0.000</td> <td>  199.108</td> <td>  216.856</td>\n",
       "</tr>\n",
       "</table>\n",
       "<table class=\"simpletable\">\n",
       "<tr>\n",
       "  <th>Omnibus:</th>       <td>247.090</td> <th>  Durbin-Watson:     </th> <td>   0.018</td>\n",
       "</tr>\n",
       "<tr>\n",
       "  <th>Prob(Omnibus):</th> <td> 0.000</td>  <th>  Jarque-Bera (JB):  </th> <td> 326.959</td>\n",
       "</tr>\n",
       "<tr>\n",
       "  <th>Skew:</th>          <td> 0.493</td>  <th>  Prob(JB):          </th> <td>1.00e-71</td>\n",
       "</tr>\n",
       "<tr>\n",
       "  <th>Kurtosis:</th>      <td> 3.801</td>  <th>  Cond. No.          </th> <td>3.48e+03</td>\n",
       "</tr>\n",
       "</table><br/><br/>Notes:<br/>[1] Standard Errors assume that the covariance matrix of the errors is correctly specified.<br/>[2] The condition number is large, 3.48e+03. This might indicate that there are<br/>strong multicollinearity or other numerical problems."
      ],
      "text/plain": [
       "<class 'statsmodels.iolib.summary.Summary'>\n",
       "\"\"\"\n",
       "                            OLS Regression Results                            \n",
       "==============================================================================\n",
       "Dep. Variable:                  PLF_c   R-squared:                       0.781\n",
       "Model:                            OLS   Adj. R-squared:                  0.780\n",
       "Method:                 Least Squares   F-statistic:                     5762.\n",
       "Date:                Fri, 04 Nov 2022   Prob (F-statistic):               0.00\n",
       "Time:                        00:04:29   Log-Likelihood:                -31920.\n",
       "No. Observations:                4863   AIC:                         6.385e+04\n",
       "Df Residuals:                    4859   BIC:                         6.387e+04\n",
       "Df Model:                           3                                         \n",
       "Covariance Type:            nonrobust                                         \n",
       "==============================================================================\n",
       "                 coef    std err          t      P>|t|      [0.025      0.975]\n",
       "------------------------------------------------------------------------------\n",
       "Intercept    524.4117      6.522     80.406      0.000     511.625     537.198\n",
       "GCF_o         -0.6274      0.010    -61.218      0.000      -0.647      -0.607\n",
       "SIF_o         41.9352      0.657     63.791      0.000      40.646      43.224\n",
       "HGF_o        207.9820      4.526     45.948      0.000     199.108     216.856\n",
       "==============================================================================\n",
       "Omnibus:                      247.090   Durbin-Watson:                   0.018\n",
       "Prob(Omnibus):                  0.000   Jarque-Bera (JB):              326.959\n",
       "Skew:                           0.493   Prob(JB):                     1.00e-71\n",
       "Kurtosis:                       3.801   Cond. No.                     3.48e+03\n",
       "==============================================================================\n",
       "\n",
       "Notes:\n",
       "[1] Standard Errors assume that the covariance matrix of the errors is correctly specified.\n",
       "[2] The condition number is large, 3.48e+03. This might indicate that there are\n",
       "strong multicollinearity or other numerical problems.\n",
       "\"\"\""
      ]
     },
     "metadata": {},
     "output_type": "display_data"
    }
   ],
   "source": [
    "model = ols('PLF_c ~ GCF_o + SIF_o + HGF_o', data=plfc).fit()\n",
    "display(model.summary())"
   ]
  },
  {
   "cell_type": "markdown",
   "id": "c731d5c2",
   "metadata": {},
   "source": [
    "***\n",
    "Linear regression model that explains SI=F closing prices is better than the others because its R^2 value is larger.\n",
    "***"
   ]
  },
  {
   "cell_type": "markdown",
   "id": "e6784ded-5ebb-492d-a244-62c7d42ec457",
   "metadata": {},
   "source": [
    "# Question 3\n",
    "\n",
    "1. Write a function that takes a ticker symbol and returns a pandas dataframe that for each day puts a 1 when the closing price is higher than the opening price, a 0 when the closing price is lower than the opening price.\n",
    "2. Write the best logistic regression that predicts the time series you obtain from Step 1 for gold futures against the opening prices of gold, silver, copper, and platinum prices.\n",
    "3. Repeat the same for silver, copper, and platinum prices.\n",
    "4. Compare the models you obtained from Steps 2 and 3. Decide which is the best model, and explain your reasoning.\n",
    "5. Does any of the models provide a good fit? Explain."
   ]
  },
  {
   "cell_type": "code",
   "execution_count": null,
   "id": "e67d2161-b332-47d0-8f16-b829520d55bd",
   "metadata": {},
   "outputs": [],
   "source": [
    "def openning_closing(ticker):\n",
    "    new_header = ticker[:-2]+ticker[-1]+'_co'\n",
    "\n",
    "    tmp = yf.download(ticker)\n",
    "    tmp[new_header] = 0\n",
    "    tmp[new_header][tmp['Close'] > tmp['Open']] = 1\n",
    "\n",
    "    tmp_co = pd.DataFrame(tmp[new_header])\n",
    "\n",
    "    return tmp_co"
   ]
  },
  {
   "cell_type": "code",
   "execution_count": null,
   "id": "3007f6a7",
   "metadata": {},
   "outputs": [],
   "source": [
    "def ticker_co_df(ticker, tickers_df):\n",
    "    df = pd.concat([tickers_df, openning_closing(ticker)], axis = 1)\n",
    "    df.dropna(inplace=True)\n",
    "    df.reset_index(inplace=True)\n",
    "    del df['Date']\n",
    "    return df\n"
   ]
  },
  {
   "cell_type": "code",
   "execution_count": null,
   "id": "1dccf784",
   "metadata": {},
   "outputs": [],
   "source": [
    "def bootstrap(X, y, model):\n",
    "    res = []\n",
    "    for i in range(100):\n",
    "        X_train, X_test, y_train, y_test = train_test_split(X, y, train_size=0.75)\n",
    "        model.fit(X_train,y_train)\n",
    "        res.append(model.score(X_test,y_test))\n",
    "    tmp = sorted(res)[3:97]\n",
    "    return (min(tmp),max(tmp))"
   ]
  },
  {
   "cell_type": "code",
   "execution_count": null,
   "id": "ddf7ec78",
   "metadata": {},
   "outputs": [],
   "source": [
    "def print_model(df):\n",
    "    X = df.iloc[:, :4]\n",
    "    y = df.iloc[:, 5]\n",
    "\n",
    "    X_train, X_test, y_train, y_test = train_test_split(X, y, train_size=0.75)\n",
    "\n",
    "    model = LogisticRegression(max_iter=1500)\n",
    "    model.fit(X_train, y_train)\n",
    "    print(model.score(X_test, y_test))\n",
    "    y_predict = model.predict(X_test)\n",
    "    print(confusion_matrix(y_test, y_predict))\n",
    "\n",
    "    print(bootstrap(X, y, model))\n"
   ]
  },
  {
   "cell_type": "code",
   "execution_count": null,
   "id": "72d0972c",
   "metadata": {},
   "outputs": [
    {
     "name": "stdout",
     "output_type": "stream",
     "text": [
      "[*********************100%***********************]  1 of 1 completed\n",
      "[*********************100%***********************]  1 of 1 completed\n",
      "[*********************100%***********************]  1 of 1 completed\n",
      "[*********************100%***********************]  1 of 1 completed\n"
     ]
    }
   ],
   "source": [
    "fticker_names = ['GC=F', 'SI=F', 'HG=F', 'PL=F']\n",
    "ftickers = [yf.download(ticker) for ticker in fticker_names]"
   ]
  },
  {
   "cell_type": "code",
   "execution_count": null,
   "id": "8293e136",
   "metadata": {},
   "outputs": [],
   "source": [
    "# I used tickers_openning() function from question-2\n",
    "gcf_df = tickers_openning('GC=F', ftickers, fticker_names)\n",
    "sif_df = tickers_openning('SI=F', ftickers, fticker_names)\n",
    "hgf_df = tickers_openning('HG=F', ftickers, fticker_names)\n",
    "plf_df = tickers_openning('PL=F', ftickers, fticker_names)"
   ]
  },
  {
   "cell_type": "code",
   "execution_count": null,
   "id": "50968732",
   "metadata": {},
   "outputs": [
    {
     "name": "stdout",
     "output_type": "stream",
     "text": [
      "[*********************100%***********************]  1 of 1 completed\n",
      "0.5748355263157895\n",
      "[[595 106]\n",
      " [411 104]]\n"
     ]
    },
    {
     "name": "stderr",
     "output_type": "stream",
     "text": [
      "C:\\Users\\sahin\\AppData\\Local\\Temp\\ipykernel_2996\\2826252514.py:6: SettingWithCopyWarning: \n",
      "A value is trying to be set on a copy of a slice from a DataFrame\n",
      "\n",
      "See the caveats in the documentation: https://pandas.pydata.org/pandas-docs/stable/user_guide/indexing.html#returning-a-view-versus-a-copy\n",
      "  tmp[new_header][tmp['Close'] > tmp['Open']] = 1\n"
     ]
    },
    {
     "name": "stdout",
     "output_type": "stream",
     "text": [
      "(0.553453947368421, 0.602796052631579)\n"
     ]
    }
   ],
   "source": [
    "model = ticker_co_df('GC=F', gcf_df)\n",
    "print_model(model)"
   ]
  },
  {
   "cell_type": "code",
   "execution_count": null,
   "id": "b522b3f1",
   "metadata": {},
   "outputs": [
    {
     "name": "stdout",
     "output_type": "stream",
     "text": [
      "[*********************100%***********************]  1 of 1 completed\n",
      "0.6620065789473685\n",
      "[[789   9]\n",
      " [402  16]]\n"
     ]
    },
    {
     "name": "stderr",
     "output_type": "stream",
     "text": [
      "C:\\Users\\sahin\\AppData\\Local\\Temp\\ipykernel_2996\\2826252514.py:6: SettingWithCopyWarning: \n",
      "A value is trying to be set on a copy of a slice from a DataFrame\n",
      "\n",
      "See the caveats in the documentation: https://pandas.pydata.org/pandas-docs/stable/user_guide/indexing.html#returning-a-view-versus-a-copy\n",
      "  tmp[new_header][tmp['Close'] > tmp['Open']] = 1\n"
     ]
    },
    {
     "name": "stdout",
     "output_type": "stream",
     "text": [
      "(0.640625, 0.6866776315789473)\n"
     ]
    }
   ],
   "source": [
    "model = ticker_co_df('SI=F', sif_df)\n",
    "print_model(model)"
   ]
  },
  {
   "cell_type": "code",
   "execution_count": null,
   "id": "80e22a52",
   "metadata": {},
   "outputs": [
    {
     "name": "stdout",
     "output_type": "stream",
     "text": [
      "[*********************100%***********************]  1 of 1 completed\n",
      "0.5008223684210527\n",
      "[[609   0]\n",
      " [607   0]]\n"
     ]
    },
    {
     "name": "stderr",
     "output_type": "stream",
     "text": [
      "C:\\Users\\sahin\\AppData\\Local\\Temp\\ipykernel_2996\\2826252514.py:6: SettingWithCopyWarning: \n",
      "A value is trying to be set on a copy of a slice from a DataFrame\n",
      "\n",
      "See the caveats in the documentation: https://pandas.pydata.org/pandas-docs/stable/user_guide/indexing.html#returning-a-view-versus-a-copy\n",
      "  tmp[new_header][tmp['Close'] > tmp['Open']] = 1\n"
     ]
    },
    {
     "name": "stdout",
     "output_type": "stream",
     "text": [
      "(0.4712171052631579, 0.5238486842105263)\n"
     ]
    }
   ],
   "source": [
    "model = ticker_co_df('HG=F', hgf_df)\n",
    "print_model(model)"
   ]
  },
  {
   "cell_type": "code",
   "execution_count": null,
   "id": "5599d23e",
   "metadata": {},
   "outputs": [
    {
     "name": "stdout",
     "output_type": "stream",
     "text": [
      "[*********************100%***********************]  1 of 1 completed\n",
      "0.7179276315789473\n",
      "[[806  74]\n",
      " [269  67]]\n"
     ]
    },
    {
     "name": "stderr",
     "output_type": "stream",
     "text": [
      "C:\\Users\\sahin\\AppData\\Local\\Temp\\ipykernel_2996\\2826252514.py:6: SettingWithCopyWarning: \n",
      "A value is trying to be set on a copy of a slice from a DataFrame\n",
      "\n",
      "See the caveats in the documentation: https://pandas.pydata.org/pandas-docs/stable/user_guide/indexing.html#returning-a-view-versus-a-copy\n",
      "  tmp[new_header][tmp['Close'] > tmp['Open']] = 1\n"
     ]
    },
    {
     "name": "stdout",
     "output_type": "stream",
     "text": [
      "(0.712171052631579, 0.7467105263157895)\n"
     ]
    }
   ],
   "source": [
    "model = ticker_co_df('PL=F', plf_df)\n",
    "print_model(model)"
   ]
  },
  {
   "cell_type": "markdown",
   "id": "17365a32-866c-40d2-8ac9-5d0dcfaba69b",
   "metadata": {},
   "source": [
    "# Question 4\n",
    "\n",
    "For this question use the following [data](https://archive.ics.uci.edu/ml/datasets/credit+approval):\n"
   ]
  },
  {
   "cell_type": "code",
   "execution_count": null,
   "id": "365d759b-b783-4539-96d0-8b6db6979c44",
   "metadata": {},
   "outputs": [],
   "source": [
    "credit = pd.read_csv('https://archive.ics.uci.edu/ml/machine-learning-databases/credit-screening/crx.data', header=None)\n",
    "\n",
    "fn = {'+': 1, '-': 0}\n",
    "\n",
    "X = credit.replace('?',0).iloc[:,[1,2,7,10,14]]\n",
    "y = credit.iloc[:,15].map(lambda x: fn.get(x,0))"
   ]
  },
  {
   "cell_type": "markdown",
   "id": "e7ebfd20-ff04-43dc-b00d-508a110ff3b3",
   "metadata": {},
   "source": [
    "1. Split the data into training and test set.\n",
    "2. Write different logistic regression models predicting y against X.\n",
    "3. Construct [confusion matrices](https://scikit-learn.org/stable/modules/generated/sklearn.metrics.confusion_matrix.html) on the test data set for these different models.\n",
    "4. Analyze these models. Explain which model is the best model you have found.\n",
    "5. Repeat Steps 1-4 several times. Does your best model stay as the best model? What should be the correct protocol to decide on the best model explaining the data?"
   ]
  },
  {
   "cell_type": "code",
   "execution_count": null,
   "id": "e750518d",
   "metadata": {},
   "outputs": [],
   "source": [
    "X = X.astype(float)"
   ]
  },
  {
   "cell_type": "code",
   "execution_count": null,
   "id": "090412d5",
   "metadata": {},
   "outputs": [],
   "source": [
    "X_train, X_test, y_train, y_test = train_test_split(X, y, train_size=0.75)"
   ]
  },
  {
   "cell_type": "markdown",
   "id": "4cf07d13",
   "metadata": {},
   "source": [
    "***"
   ]
  },
  {
   "cell_type": "code",
   "execution_count": null,
   "id": "d01d24ac",
   "metadata": {},
   "outputs": [
    {
     "data": {
      "text/plain": [
       "0.8034682080924855"
      ]
     },
     "execution_count": 351,
     "metadata": {},
     "output_type": "execute_result"
    }
   ],
   "source": [
    "model1 = LogisticRegression(max_iter=1500)\n",
    "model1.fit(X_train, y_train)\n",
    "model1.score(X_test, y_test)"
   ]
  },
  {
   "cell_type": "code",
   "execution_count": null,
   "id": "2e4c42a2",
   "metadata": {},
   "outputs": [
    {
     "data": {
      "text/plain": [
       "array([[92,  8],\n",
       "       [26, 47]], dtype=int64)"
      ]
     },
     "execution_count": 352,
     "metadata": {},
     "output_type": "execute_result"
    }
   ],
   "source": [
    "y_predict = model1.predict(X_test)\n",
    "confusion_matrix(y_test, y_predict)"
   ]
  },
  {
   "cell_type": "markdown",
   "id": "12d30036",
   "metadata": {},
   "source": [
    "***"
   ]
  },
  {
   "cell_type": "code",
   "execution_count": null,
   "id": "391abe95",
   "metadata": {},
   "outputs": [],
   "source": [
    "df = pd.concat([X_train, y_train], axis=1)\n",
    "df.columns = ['a','b','c','d','e','p']"
   ]
  },
  {
   "cell_type": "code",
   "execution_count": null,
   "id": "92e2a7ab",
   "metadata": {},
   "outputs": [
    {
     "name": "stdout",
     "output_type": "stream",
     "text": [
      "Optimization terminated successfully.\n",
      "         Current function value: 0.503675\n",
      "         Iterations 8\n"
     ]
    },
    {
     "data": {
      "text/html": [
       "<table class=\"simpletable\">\n",
       "<caption>Logit Regression Results</caption>\n",
       "<tr>\n",
       "  <th>Dep. Variable:</th>           <td>p</td>        <th>  No. Observations:  </th>  <td>   517</td>  \n",
       "</tr>\n",
       "<tr>\n",
       "  <th>Model:</th>                 <td>Logit</td>      <th>  Df Residuals:      </th>  <td>   511</td>  \n",
       "</tr>\n",
       "<tr>\n",
       "  <th>Method:</th>                 <td>MLE</td>       <th>  Df Model:          </th>  <td>     5</td>  \n",
       "</tr>\n",
       "<tr>\n",
       "  <th>Date:</th>            <td>Fri, 04 Nov 2022</td> <th>  Pseudo R-squ.:     </th>  <td>0.2686</td>  \n",
       "</tr>\n",
       "<tr>\n",
       "  <th>Time:</th>                <td>02:22:39</td>     <th>  Log-Likelihood:    </th> <td> -260.40</td> \n",
       "</tr>\n",
       "<tr>\n",
       "  <th>converged:</th>             <td>True</td>       <th>  LL-Null:           </th> <td> -356.03</td> \n",
       "</tr>\n",
       "<tr>\n",
       "  <th>Covariance Type:</th>     <td>nonrobust</td>    <th>  LLR p-value:       </th> <td>2.098e-39</td>\n",
       "</tr>\n",
       "</table>\n",
       "<table class=\"simpletable\">\n",
       "<tr>\n",
       "      <td></td>         <th>coef</th>     <th>std err</th>      <th>z</th>      <th>P>|z|</th>  <th>[0.025</th>    <th>0.975]</th>  \n",
       "</tr>\n",
       "<tr>\n",
       "  <th>Intercept</th> <td>   -1.7755</td> <td>    0.317</td> <td>   -5.605</td> <td> 0.000</td> <td>   -2.396</td> <td>   -1.155</td>\n",
       "</tr>\n",
       "<tr>\n",
       "  <th>a</th>         <td>    0.0099</td> <td>    0.009</td> <td>    1.071</td> <td> 0.284</td> <td>   -0.008</td> <td>    0.028</td>\n",
       "</tr>\n",
       "<tr>\n",
       "  <th>b</th>         <td>    0.0279</td> <td>    0.023</td> <td>    1.202</td> <td> 0.229</td> <td>   -0.018</td> <td>    0.073</td>\n",
       "</tr>\n",
       "<tr>\n",
       "  <th>c</th>         <td>    0.1576</td> <td>    0.042</td> <td>    3.711</td> <td> 0.000</td> <td>    0.074</td> <td>    0.241</td>\n",
       "</tr>\n",
       "<tr>\n",
       "  <th>d</th>         <td>    0.3628</td> <td>    0.052</td> <td>    6.996</td> <td> 0.000</td> <td>    0.261</td> <td>    0.464</td>\n",
       "</tr>\n",
       "<tr>\n",
       "  <th>e</th>         <td>    0.0004</td> <td>    0.000</td> <td>    3.615</td> <td> 0.000</td> <td>    0.000</td> <td>    0.001</td>\n",
       "</tr>\n",
       "</table>"
      ],
      "text/plain": [
       "<class 'statsmodels.iolib.summary.Summary'>\n",
       "\"\"\"\n",
       "                           Logit Regression Results                           \n",
       "==============================================================================\n",
       "Dep. Variable:                      p   No. Observations:                  517\n",
       "Model:                          Logit   Df Residuals:                      511\n",
       "Method:                           MLE   Df Model:                            5\n",
       "Date:                Fri, 04 Nov 2022   Pseudo R-squ.:                  0.2686\n",
       "Time:                        02:22:39   Log-Likelihood:                -260.40\n",
       "converged:                       True   LL-Null:                       -356.03\n",
       "Covariance Type:            nonrobust   LLR p-value:                 2.098e-39\n",
       "==============================================================================\n",
       "                 coef    std err          z      P>|z|      [0.025      0.975]\n",
       "------------------------------------------------------------------------------\n",
       "Intercept     -1.7755      0.317     -5.605      0.000      -2.396      -1.155\n",
       "a              0.0099      0.009      1.071      0.284      -0.008       0.028\n",
       "b              0.0279      0.023      1.202      0.229      -0.018       0.073\n",
       "c              0.1576      0.042      3.711      0.000       0.074       0.241\n",
       "d              0.3628      0.052      6.996      0.000       0.261       0.464\n",
       "e              0.0004      0.000      3.615      0.000       0.000       0.001\n",
       "==============================================================================\n",
       "\"\"\""
      ]
     },
     "execution_count": 323,
     "metadata": {},
     "output_type": "execute_result"
    }
   ],
   "source": [
    "model2 = smf.logit('p ~ a + b + c + d + e', data=df).fit()\n",
    "model2.summary()"
   ]
  },
  {
   "cell_type": "markdown",
   "id": "d282f027",
   "metadata": {},
   "source": [
    "***"
   ]
  },
  {
   "cell_type": "code",
   "execution_count": null,
   "id": "1f9a2c54",
   "metadata": {},
   "outputs": [
    {
     "name": "stdout",
     "output_type": "stream",
     "text": [
      "Optimization terminated successfully.\n",
      "         Current function value: 0.535929\n",
      "         Iterations 8\n"
     ]
    },
    {
     "data": {
      "text/html": [
       "<table class=\"simpletable\">\n",
       "<caption>Logit Regression Results</caption>\n",
       "<tr>\n",
       "  <th>Dep. Variable:</th>          <td>15</td>        <th>  No. Observations:  </th>  <td>   517</td>  \n",
       "</tr>\n",
       "<tr>\n",
       "  <th>Model:</th>                 <td>Logit</td>      <th>  Df Residuals:      </th>  <td>   512</td>  \n",
       "</tr>\n",
       "<tr>\n",
       "  <th>Method:</th>                 <td>MLE</td>       <th>  Df Model:          </th>  <td>     4</td>  \n",
       "</tr>\n",
       "<tr>\n",
       "  <th>Date:</th>            <td>Fri, 04 Nov 2022</td> <th>  Pseudo R-squ.:     </th>  <td>0.2218</td>  \n",
       "</tr>\n",
       "<tr>\n",
       "  <th>Time:</th>                <td>02:42:26</td>     <th>  Log-Likelihood:    </th> <td> -277.08</td> \n",
       "</tr>\n",
       "<tr>\n",
       "  <th>converged:</th>             <td>True</td>       <th>  LL-Null:           </th> <td> -356.03</td> \n",
       "</tr>\n",
       "<tr>\n",
       "  <th>Covariance Type:</th>     <td>nonrobust</td>    <th>  LLR p-value:       </th> <td>4.097e-33</td>\n",
       "</tr>\n",
       "</table>\n",
       "<table class=\"simpletable\">\n",
       "<tr>\n",
       "   <td></td>     <th>coef</th>     <th>std err</th>      <th>z</th>      <th>P>|z|</th>  <th>[0.025</th>    <th>0.975]</th>  \n",
       "</tr>\n",
       "<tr>\n",
       "  <th>1</th>  <td>   -0.0358</td> <td>    0.005</td> <td>   -6.659</td> <td> 0.000</td> <td>   -0.046</td> <td>   -0.025</td>\n",
       "</tr>\n",
       "<tr>\n",
       "  <th>2</th>  <td>   -0.0122</td> <td>    0.023</td> <td>   -0.539</td> <td> 0.590</td> <td>   -0.057</td> <td>    0.032</td>\n",
       "</tr>\n",
       "<tr>\n",
       "  <th>7</th>  <td>    0.1632</td> <td>    0.041</td> <td>    3.953</td> <td> 0.000</td> <td>    0.082</td> <td>    0.244</td>\n",
       "</tr>\n",
       "<tr>\n",
       "  <th>10</th> <td>    0.3271</td> <td>    0.048</td> <td>    6.845</td> <td> 0.000</td> <td>    0.233</td> <td>    0.421</td>\n",
       "</tr>\n",
       "<tr>\n",
       "  <th>14</th> <td>    0.0003</td> <td>    0.000</td> <td>    3.277</td> <td> 0.001</td> <td>    0.000</td> <td>    0.001</td>\n",
       "</tr>\n",
       "</table>"
      ],
      "text/plain": [
       "<class 'statsmodels.iolib.summary.Summary'>\n",
       "\"\"\"\n",
       "                           Logit Regression Results                           \n",
       "==============================================================================\n",
       "Dep. Variable:                     15   No. Observations:                  517\n",
       "Model:                          Logit   Df Residuals:                      512\n",
       "Method:                           MLE   Df Model:                            4\n",
       "Date:                Fri, 04 Nov 2022   Pseudo R-squ.:                  0.2218\n",
       "Time:                        02:42:26   Log-Likelihood:                -277.08\n",
       "converged:                       True   LL-Null:                       -356.03\n",
       "Covariance Type:            nonrobust   LLR p-value:                 4.097e-33\n",
       "==============================================================================\n",
       "                 coef    std err          z      P>|z|      [0.025      0.975]\n",
       "------------------------------------------------------------------------------\n",
       "1             -0.0358      0.005     -6.659      0.000      -0.046      -0.025\n",
       "2             -0.0122      0.023     -0.539      0.590      -0.057       0.032\n",
       "7              0.1632      0.041      3.953      0.000       0.082       0.244\n",
       "10             0.3271      0.048      6.845      0.000       0.233       0.421\n",
       "14             0.0003      0.000      3.277      0.001       0.000       0.001\n",
       "==============================================================================\n",
       "\"\"\""
      ]
     },
     "execution_count": 373,
     "metadata": {},
     "output_type": "execute_result"
    }
   ],
   "source": [
    "model3 = sm.Logit(y_train, X_train).fit()\n",
    "model3.summary()"
   ]
  },
  {
   "cell_type": "code",
   "execution_count": 384,
   "id": "d5064559",
   "metadata": {},
   "outputs": [
    {
     "data": {
      "text/plain": [
       "array([[90, 10],\n",
       "       [30, 43]], dtype=int64)"
      ]
     },
     "execution_count": 384,
     "metadata": {},
     "output_type": "execute_result"
    }
   ],
   "source": [
    "y_predict3 = model3.predict(X_test)\n",
    "y_predict3 = np.where(y_predict3 > 0.5, 1, 0)\n",
    "confusion_matrix(y_test, y_predict3)"
   ]
  },
  {
   "cell_type": "markdown",
   "id": "4cf48bf9",
   "metadata": {},
   "source": [
    "***"
   ]
  },
  {
   "cell_type": "code",
   "execution_count": null,
   "id": "8afaa164",
   "metadata": {},
   "outputs": [
    {
     "data": {
      "text/plain": [
       "(-0.47497249724972557, 0.028609625668448935)"
      ]
     },
     "execution_count": 348,
     "metadata": {},
     "output_type": "execute_result"
    }
   ],
   "source": [
    "model4 = DecisionTreeRegressor()\n",
    "model4.fit(X_train, y_train)\n",
    "bootstrap(X, y, model4)"
   ]
  },
  {
   "cell_type": "code",
   "execution_count": null,
   "id": "61a89fbd",
   "metadata": {},
   "outputs": [
    {
     "data": {
      "text/plain": [
       "array([[89, 11],\n",
       "       [ 4, 69]], dtype=int64)"
      ]
     },
     "execution_count": 355,
     "metadata": {},
     "output_type": "execute_result"
    }
   ],
   "source": [
    "y_predict4 = model4.predict(X_test)\n",
    "confusion_matrix(y_test, y_predict4)"
   ]
  },
  {
   "cell_type": "markdown",
   "id": "3b75dda7",
   "metadata": {},
   "source": [
    "***"
   ]
  },
  {
   "cell_type": "code",
   "execution_count": null,
   "id": "a5811654",
   "metadata": {},
   "outputs": [
    {
     "data": {
      "text/plain": [
       "(-0.023122737665004944, 0.28493027263328663)"
      ]
     },
     "execution_count": 360,
     "metadata": {},
     "output_type": "execute_result"
    }
   ],
   "source": [
    "model5 = LinearRegression()\n",
    "model5.fit(X_train, y_train)\n",
    "bootstrap(X,y,model)"
   ]
  },
  {
   "cell_type": "code",
   "execution_count": null,
   "id": "f61f03ed",
   "metadata": {},
   "outputs": [
    {
     "data": {
      "text/plain": [
       "array([[95,  5],\n",
       "       [34, 39]], dtype=int64)"
      ]
     },
     "execution_count": 365,
     "metadata": {},
     "output_type": "execute_result"
    }
   ],
   "source": [
    "y_predict5 = model5.predict(X_test)\n",
    "y_predict5 = np.where(y_predict5 > 0.5, 1, 0)\n",
    "confusion_matrix(y_test, y_predict5)"
   ]
  },
  {
   "cell_type": "markdown",
   "id": "01f1b1e9",
   "metadata": {},
   "source": [
    "***"
   ]
  },
  {
   "cell_type": "markdown",
   "id": "e8662215",
   "metadata": {},
   "source": [
    "Binary logistic regression model is the best model because y has 2 values (1 and 0). LogisticRegression() predicts y better than the others."
   ]
  }
 ],
 "metadata": {
  "kernelspec": {
   "display_name": "Python 3.10.8 64-bit (microsoft store)",
   "language": "python",
   "name": "python3"
  },
  "language_info": {
   "codemirror_mode": {
    "name": "ipython",
    "version": 3
   },
   "file_extension": ".py",
   "mimetype": "text/x-python",
   "name": "python",
   "nbconvert_exporter": "python",
   "pygments_lexer": "ipython3",
   "version": "3.10.8"
  },
  "vscode": {
   "interpreter": {
    "hash": "8e8271cb67d71434d71d7359a5244618f962c24c33d897b4dd8966bfba9a1715"
   }
  }
 },
 "nbformat": 4,
 "nbformat_minor": 5
}
