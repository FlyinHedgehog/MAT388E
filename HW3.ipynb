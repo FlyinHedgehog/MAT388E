{
 "cells": [
  {
   "cell_type": "markdown",
   "id": "a936e49c",
   "metadata": {},
   "source": [
    "Gökçe Şahin 090190306"
   ]
  },
  {
   "cell_type": "code",
   "execution_count": 1,
   "id": "24aa875c-1b54-41d6-a8b4-41bd6d9e2a08",
   "metadata": {},
   "outputs": [],
   "source": [
    "import numpy as np\n",
    "import pandas as pd\n",
    "import scipy.cluster.hierarchy as hc\n",
    "import matplotlib.pyplot as plt\n",
    "import scipy.spatial.distance as ssd\n",
    "from sklearn.linear_model import LogisticRegression\n",
    "from sklearn.neighbors import KNeighborsClassifier\n",
    "\n",
    "from scipy.io import loadmat\n",
    "from sklearn.cluster import AgglomerativeClustering, DBSCAN\n",
    "from sklearn.model_selection import train_test_split, KFold, cross_val_score\n",
    "from sklearn.svm import SVC\n",
    "from sklearn.metrics import confusion_matrix\n",
    "from sklearn import preprocessing\n",
    "from itertools import combinations"
   ]
  },
  {
   "cell_type": "markdown",
   "id": "a2982bc4-dc8d-4d0c-b8c2-c195de06b0b9",
   "metadata": {},
   "source": [
    "# MAT 388E HW3"
   ]
  },
  {
   "cell_type": "markdown",
   "id": "c2793a97-fd44-48a5-90a2-6a2a9e5dfb4e",
   "metadata": {},
   "source": [
    "## Q1\n",
    "\n",
    "This is going to be an image classification problem. For this problem we are going to use [the corrected Indian Pines Dataset](https://www.ehu.eus/ccwintco/index.php?title=Hyperspectral_Remote_Sensing_Scenes#Indian_Pines).\n",
    "\n",
    "1. Download the data (both the corrected dataset and the ground-truth dataset) into a subdirectory called `data`, and ingest it as I did in [Lecture 8](https://github.com/kaygun/2022-Fall-388E/blob/main/lecture-8.ipynb).\n",
    "2. Instead of using a categorical target variable with 17 classes, from the ground-truth data you ingested create 17 binary classifiers using scikit-learn's [`LabelBinarizer`](https://scikit-learn.org/stable/modules/generated/sklearn.preprocessing.LabelBinarizer.html).\n",
    "\n",
    "For the steps 3,4, and 5 below write an appropriate function that takes a model type ('LR','SVM', or 'KNN'), the independent variable (the dataset you ingested above) and binary target variable and returns the accuracy score of a properly constructed model given by a 10-fold cross-validation. Use scikitlearn's [cross validation](https://scikit-learn.org/stable/modules/cross_validation.html) routines. Record your results from Steps 2,3 and 4 in a pandas data frame.  \n",
    "\n",
    "3. Construct a logistic regression model for each of the 17 class, and evaluate them using a 10-fold cross-validation. \n",
    "4. Construct an SVM model for each of the 17 class, and evaluate them using a 10-fold cross-validation. \n",
    "5. Construct a KNN model for each of the 17 class and evaluate them using a 10-fold cross-validation. You must determine what would be an appropriate K-value for each class separately, or you may decide to use a single K-value.\n",
    "6. Display and analyze your cross-validation results in a table. What is the best model overall? What is the best model for each class? "
   ]
  },
  {
   "cell_type": "code",
   "execution_count": 2,
   "id": "5721a205",
   "metadata": {},
   "outputs": [],
   "source": [
    "def lr_model(X, y):\n",
    "    X_train, X_test, y_train, y_test = train_test_split(X[:, 0:201], y, train_size=0.3)\n",
    "    return"
   ]
  },
  {
   "cell_type": "code",
   "execution_count": 3,
   "id": "77e1ae99",
   "metadata": {},
   "outputs": [],
   "source": [
    "def acc_score(model_type, dataset, target):\n",
    "    return"
   ]
  },
  {
   "cell_type": "code",
   "execution_count": 4,
   "id": "739d5442",
   "metadata": {},
   "outputs": [],
   "source": [
    "pine_corrected = loadmat('./data/Indian_pines_corrected.mat')['indian_pines_corrected']\n",
    "pine_gt = loadmat('./data/Indian_pines_gt.mat')['indian_pines_gt']\n",
    "\n",
    "X = pine_corrected.reshape((145*145, 200))\n",
    "y = pine_gt.reshape(145*145)"
   ]
  },
  {
   "cell_type": "code",
   "execution_count": 5,
   "id": "20c9f8c1",
   "metadata": {},
   "outputs": [
    {
     "data": {
      "text/plain": [
       "17"
      ]
     },
     "execution_count": 5,
     "metadata": {},
     "output_type": "execute_result"
    }
   ],
   "source": [
    "lb = preprocessing.LabelBinarizer()\n",
    "bin_labels = lb.fit_transform(y)\n",
    "bin_labels.shape[1]"
   ]
  },
  {
   "cell_type": "code",
   "execution_count": 6,
   "id": "3686ad0e",
   "metadata": {},
   "outputs": [],
   "source": [
    "k_cv = KFold(n_splits=10)"
   ]
  },
  {
   "cell_type": "code",
   "execution_count": 7,
   "id": "cbdf5562",
   "metadata": {},
   "outputs": [
    {
     "name": "stderr",
     "output_type": "stream",
     "text": [
      "C:\\Users\\sahin\\AppData\\Local\\Packages\\PythonSoftwareFoundation.Python.3.10_qbz5n2kfra8p0\\LocalCache\\local-packages\\Python310\\site-packages\\sklearn\\model_selection\\_validation.py:378: FitFailedWarning: \n",
      "1 fits failed out of a total of 10.\n",
      "The score on these train-test partitions for these parameters will be set to nan.\n",
      "If these failures are not expected, you can try to debug them by setting error_score='raise'.\n",
      "\n",
      "Below are more details about the failures:\n",
      "--------------------------------------------------------------------------------\n",
      "1 fits failed with the following error:\n",
      "Traceback (most recent call last):\n",
      "  File \"C:\\Users\\sahin\\AppData\\Local\\Packages\\PythonSoftwareFoundation.Python.3.10_qbz5n2kfra8p0\\LocalCache\\local-packages\\Python310\\site-packages\\sklearn\\model_selection\\_validation.py\", line 686, in _fit_and_score\n",
      "    estimator.fit(X_train, y_train, **fit_params)\n",
      "  File \"C:\\Users\\sahin\\AppData\\Local\\Packages\\PythonSoftwareFoundation.Python.3.10_qbz5n2kfra8p0\\LocalCache\\local-packages\\Python310\\site-packages\\sklearn\\linear_model\\_logistic.py\", line 1183, in fit\n",
      "    raise ValueError(\n",
      "ValueError: This solver needs samples of at least 2 classes in the data, but the data contains only one class: 0\n",
      "\n",
      "  warnings.warn(some_fits_failed_message, FitFailedWarning)\n"
     ]
    },
    {
     "data": {
      "text/plain": [
       "[0.7176198380909335,\n",
       " 0.9970511973063717,\n",
       " 0.9361319722221844,\n",
       " 0.9550564573376894,\n",
       " 0.9865422193748861,\n",
       " 0.9736457998247261,\n",
       " 0.9790228539447746,\n",
       " nan,\n",
       " 0.9883495690312376,\n",
       " nan,\n",
       " 0.9516365094855657,\n",
       " 0.9049235766222237,\n",
       " 0.9659531058209174,\n",
       " nan,\n",
       " 0.9276968971425443,\n",
       " 0.9808843150535255,\n",
       " 0.9959580645292643]"
      ]
     },
     "execution_count": 7,
     "metadata": {},
     "output_type": "execute_result"
    }
   ],
   "source": [
    "lr_scores = []\n",
    "\n",
    "for i in range(bin_labels.shape[1]):\n",
    "    lr_model = LogisticRegression()\n",
    "    score = cross_val_score(lr_model, X, bin_labels[:, i], cv=k_cv, n_jobs=-1)\n",
    "\n",
    "    lr_scores.append(np.mean(score))\n",
    "\n",
    "lr_scores\n"
   ]
  },
  {
   "cell_type": "code",
   "execution_count": 8,
   "id": "d8a5ef78",
   "metadata": {},
   "outputs": [
    {
     "name": "stderr",
     "output_type": "stream",
     "text": [
      "C:\\Users\\sahin\\AppData\\Local\\Packages\\PythonSoftwareFoundation.Python.3.10_qbz5n2kfra8p0\\LocalCache\\local-packages\\Python310\\site-packages\\sklearn\\model_selection\\_validation.py:378: FitFailedWarning: \n",
      "1 fits failed out of a total of 10.\n",
      "The score on these train-test partitions for these parameters will be set to nan.\n",
      "If these failures are not expected, you can try to debug them by setting error_score='raise'.\n",
      "\n",
      "Below are more details about the failures:\n",
      "--------------------------------------------------------------------------------\n",
      "1 fits failed with the following error:\n",
      "Traceback (most recent call last):\n",
      "  File \"C:\\Users\\sahin\\AppData\\Local\\Packages\\PythonSoftwareFoundation.Python.3.10_qbz5n2kfra8p0\\LocalCache\\local-packages\\Python310\\site-packages\\sklearn\\model_selection\\_validation.py\", line 686, in _fit_and_score\n",
      "    estimator.fit(X_train, y_train, **fit_params)\n",
      "  File \"C:\\Users\\sahin\\AppData\\Local\\Packages\\PythonSoftwareFoundation.Python.3.10_qbz5n2kfra8p0\\LocalCache\\local-packages\\Python310\\site-packages\\sklearn\\svm\\_base.py\", line 182, in fit\n",
      "    y = self._validate_targets(y)\n",
      "  File \"C:\\Users\\sahin\\AppData\\Local\\Packages\\PythonSoftwareFoundation.Python.3.10_qbz5n2kfra8p0\\LocalCache\\local-packages\\Python310\\site-packages\\sklearn\\svm\\_base.py\", line 739, in _validate_targets\n",
      "    raise ValueError(\n",
      "ValueError: The number of classes has to be greater than one; got 1 class\n",
      "\n",
      "  warnings.warn(some_fits_failed_message, FitFailedWarning)\n"
     ]
    },
    {
     "data": {
      "text/plain": [
       "[0.5481255539524209,\n",
       " 0.9978123545132617,\n",
       " 0.9309490813947544,\n",
       " 0.9605264646173991,\n",
       " 0.9887303851640514,\n",
       " 0.9770227435501727,\n",
       " 0.9652772782120419,\n",
       " nan,\n",
       " 0.9735606738233133,\n",
       " nan,\n",
       " 0.9537779385436871,\n",
       " 0.5984160184377082,\n",
       " 0.9718021873514028,\n",
       " nan,\n",
       " 0.9398273862765935,\n",
       " 0.9816452686638136,\n",
       " 0.9952924167504806]"
      ]
     },
     "execution_count": 8,
     "metadata": {},
     "output_type": "execute_result"
    }
   ],
   "source": [
    "svc_scores = []\n",
    "\n",
    "for i in range(bin_labels.shape[1]):\n",
    "    svc_model = SVC(max_iter = 1500, kernel='rbf')\n",
    "    score = cross_val_score(svc_model, X, bin_labels[:, i], cv=k_cv, n_jobs=-1)\n",
    "\n",
    "    svc_scores.append(np.mean(score))\n",
    "\n",
    "svc_scores"
   ]
  },
  {
   "cell_type": "code",
   "execution_count": 9,
   "id": "c5ab52ab",
   "metadata": {},
   "outputs": [
    {
     "data": {
      "text/plain": [
       "[0.7322708079120355,\n",
       " 0.9968613095423919,\n",
       " 0.9147804572598703,\n",
       " 0.954913080086307,\n",
       " 0.98321253268291,\n",
       " 0.9714581090942982,\n",
       " 0.9729348631129557,\n",
       " 0.9985252819473608,\n",
       " 0.9834513514968648,\n",
       " 0.9990489776509748,\n",
       " 0.9515404571331878,\n",
       " 0.910491129296058,\n",
       " 0.9660002271233203,\n",
       " 0.9887254309800733,\n",
       " 0.9211319699599999,\n",
       " 0.977601908016865,\n",
       " 0.9960531893860114]"
      ]
     },
     "execution_count": 9,
     "metadata": {},
     "output_type": "execute_result"
    }
   ],
   "source": [
    "knn_scores = []\n",
    "\n",
    "for i in range(bin_labels.shape[1]):\n",
    "    knn_model = KNeighborsClassifier(n_neighbors = 5)\n",
    "    score = cross_val_score(knn_model, X, bin_labels[:, i], cv=k_cv, n_jobs=-1)\n",
    "    knn_scores.append(np.mean(score))\n",
    "\n",
    "knn_scores"
   ]
  },
  {
   "cell_type": "code",
   "execution_count": 10,
   "id": "a1466da5",
   "metadata": {},
   "outputs": [
    {
     "data": {
      "text/plain": [
       "array([0.71761984, 0.9970512 , 0.93613197, 0.95505646, 0.98654222,\n",
       "       0.9736458 , 0.97902285,        nan, 0.98834957,        nan,\n",
       "       0.95163651, 0.90492358, 0.96595311,        nan, 0.9276969 ,\n",
       "       0.98088432, 0.99595806, 0.54812555, 0.99781235, 0.93094908,\n",
       "       0.96052646, 0.98873039, 0.97702274, 0.96527728,        nan,\n",
       "       0.97356067,        nan, 0.95377794, 0.59841602, 0.97180219,\n",
       "              nan, 0.93982739, 0.98164527, 0.99529242, 0.73227081,\n",
       "       0.99686131, 0.91478046, 0.95491308, 0.98321253, 0.97145811,\n",
       "       0.97293486, 0.99852528, 0.98345135, 0.99904898, 0.95154046,\n",
       "       0.91049113, 0.96600023, 0.98872543, 0.92113197, 0.97760191,\n",
       "       0.99605319])"
      ]
     },
     "execution_count": 10,
     "metadata": {},
     "output_type": "execute_result"
    }
   ],
   "source": [
    "np.concatenate((lr_scores, svc_scores, knn_scores))"
   ]
  },
  {
   "cell_type": "code",
   "execution_count": 11,
   "id": "4c32ab73",
   "metadata": {},
   "outputs": [
    {
     "data": {
      "text/html": [
       "<div>\n",
       "<style scoped>\n",
       "    .dataframe tbody tr th:only-of-type {\n",
       "        vertical-align: middle;\n",
       "    }\n",
       "\n",
       "    .dataframe tbody tr th {\n",
       "        vertical-align: top;\n",
       "    }\n",
       "\n",
       "    .dataframe thead th {\n",
       "        text-align: right;\n",
       "    }\n",
       "</style>\n",
       "<table border=\"1\" class=\"dataframe\">\n",
       "  <thead>\n",
       "    <tr style=\"text-align: right;\">\n",
       "      <th></th>\n",
       "      <th>1</th>\n",
       "      <th>2</th>\n",
       "      <th>3</th>\n",
       "      <th>4</th>\n",
       "      <th>5</th>\n",
       "      <th>6</th>\n",
       "      <th>7</th>\n",
       "      <th>8</th>\n",
       "      <th>9</th>\n",
       "      <th>10</th>\n",
       "      <th>11</th>\n",
       "      <th>12</th>\n",
       "      <th>13</th>\n",
       "      <th>14</th>\n",
       "      <th>15</th>\n",
       "      <th>16</th>\n",
       "      <th>17</th>\n",
       "    </tr>\n",
       "  </thead>\n",
       "  <tbody>\n",
       "    <tr>\n",
       "      <th>LR</th>\n",
       "      <td>0.717620</td>\n",
       "      <td>0.997051</td>\n",
       "      <td>0.936132</td>\n",
       "      <td>0.955056</td>\n",
       "      <td>0.986542</td>\n",
       "      <td>0.973646</td>\n",
       "      <td>0.979023</td>\n",
       "      <td>NaN</td>\n",
       "      <td>0.988350</td>\n",
       "      <td>NaN</td>\n",
       "      <td>0.951637</td>\n",
       "      <td>0.904924</td>\n",
       "      <td>0.965953</td>\n",
       "      <td>NaN</td>\n",
       "      <td>0.927697</td>\n",
       "      <td>0.980884</td>\n",
       "      <td>0.995958</td>\n",
       "    </tr>\n",
       "    <tr>\n",
       "      <th>SVC</th>\n",
       "      <td>0.548126</td>\n",
       "      <td>0.997812</td>\n",
       "      <td>0.930949</td>\n",
       "      <td>0.960526</td>\n",
       "      <td>0.988730</td>\n",
       "      <td>0.977023</td>\n",
       "      <td>0.965277</td>\n",
       "      <td>NaN</td>\n",
       "      <td>0.973561</td>\n",
       "      <td>NaN</td>\n",
       "      <td>0.953778</td>\n",
       "      <td>0.598416</td>\n",
       "      <td>0.971802</td>\n",
       "      <td>NaN</td>\n",
       "      <td>0.939827</td>\n",
       "      <td>0.981645</td>\n",
       "      <td>0.995292</td>\n",
       "    </tr>\n",
       "    <tr>\n",
       "      <th>KNN</th>\n",
       "      <td>0.732271</td>\n",
       "      <td>0.996861</td>\n",
       "      <td>0.914780</td>\n",
       "      <td>0.954913</td>\n",
       "      <td>0.983213</td>\n",
       "      <td>0.971458</td>\n",
       "      <td>0.972935</td>\n",
       "      <td>0.998525</td>\n",
       "      <td>0.983451</td>\n",
       "      <td>0.999049</td>\n",
       "      <td>0.951540</td>\n",
       "      <td>0.910491</td>\n",
       "      <td>0.966000</td>\n",
       "      <td>0.988725</td>\n",
       "      <td>0.921132</td>\n",
       "      <td>0.977602</td>\n",
       "      <td>0.996053</td>\n",
       "    </tr>\n",
       "  </tbody>\n",
       "</table>\n",
       "</div>"
      ],
      "text/plain": [
       "           1         2         3         4         5         6         7   \\\n",
       "LR   0.717620  0.997051  0.936132  0.955056  0.986542  0.973646  0.979023   \n",
       "SVC  0.548126  0.997812  0.930949  0.960526  0.988730  0.977023  0.965277   \n",
       "KNN  0.732271  0.996861  0.914780  0.954913  0.983213  0.971458  0.972935   \n",
       "\n",
       "           8         9         10        11        12        13        14  \\\n",
       "LR        NaN  0.988350       NaN  0.951637  0.904924  0.965953       NaN   \n",
       "SVC       NaN  0.973561       NaN  0.953778  0.598416  0.971802       NaN   \n",
       "KNN  0.998525  0.983451  0.999049  0.951540  0.910491  0.966000  0.988725   \n",
       "\n",
       "           15        16        17  \n",
       "LR   0.927697  0.980884  0.995958  \n",
       "SVC  0.939827  0.981645  0.995292  \n",
       "KNN  0.921132  0.977602  0.996053  "
      ]
     },
     "execution_count": 11,
     "metadata": {},
     "output_type": "execute_result"
    }
   ],
   "source": [
    "pd.DataFrame(np.vstack((lr_scores, svc_scores, knn_scores)), index = ['LR', 'SVC', 'KNN'], columns=[x+1 for x in range(17)])"
   ]
  },
  {
   "cell_type": "markdown",
   "id": "0d55b8ac-78ba-433a-a5f5-bcb91b8d2803",
   "metadata": {},
   "source": [
    "## Q2\n",
    "\n",
    "For this question, we are going to analyze some [NBA datasets](https://sports-statistics.com/sports-data/nba-basketball-datasets-csv-files/). Specifically, we look at the season 2018-2019."
   ]
  },
  {
   "cell_type": "code",
   "execution_count": 12,
   "id": "7ea63d3d-6236-46cd-aab1-c37d4bda5eb5",
   "metadata": {},
   "outputs": [
    {
     "data": {
      "text/plain": [
       "Index(['Unnamed: 0', 'EVENTMSGACTIONTYPE', 'EVENTMSGTYPE', 'EVENTNUM',\n",
       "       'GAME_ID', 'HOMEDESCRIPTION', 'NEUTRALDESCRIPTION', 'PCTIMESTRING',\n",
       "       'PERIOD', 'PERSON1TYPE', 'PERSON2TYPE', 'PERSON3TYPE', 'PLAYER1_ID',\n",
       "       'PLAYER1_NAME', 'PLAYER1_TEAM_ABBREVIATION', 'PLAYER1_TEAM_CITY',\n",
       "       'PLAYER1_TEAM_ID', 'PLAYER1_TEAM_NICKNAME', 'PLAYER2_ID',\n",
       "       'PLAYER2_NAME', 'PLAYER2_TEAM_ABBREVIATION', 'PLAYER2_TEAM_CITY',\n",
       "       'PLAYER2_TEAM_ID', 'PLAYER2_TEAM_NICKNAME', 'PLAYER3_ID',\n",
       "       'PLAYER3_NAME', 'PLAYER3_TEAM_ABBREVIATION', 'PLAYER3_TEAM_CITY',\n",
       "       'PLAYER3_TEAM_ID', 'PLAYER3_TEAM_NICKNAME', 'SCORE', 'SCOREMARGIN',\n",
       "       'VISITORDESCRIPTION', 'WCTIMESTRING'],\n",
       "      dtype='object')"
      ]
     },
     "execution_count": 12,
     "metadata": {},
     "output_type": "execute_result"
    }
   ],
   "source": [
    "NBA = pd.read_csv('https://sports-statistics.com/database/basketball-data/nba/2018-19_pbp.csv')\n",
    "NBA.columns"
   ]
  },
  {
   "cell_type": "markdown",
   "id": "cd77fc41-fb2b-4717-b61d-9a8ec7bc4607",
   "metadata": {},
   "source": [
    "1. Using the columns `PLAYER1_TEAM_ABBREVIATION`, `PLAYER2_TEAM_ABBREVIATION`, `PLAYER3_TEAM_ABBREVIATION` construct a 30x30 matrix that has the total number of interactions the teams had with each other during the season.\n",
    "2. Using the matrix you constructed in the previous step, construct a hiearchical clustering model and split the NBA teams into 2 clusters.\n",
    "3. NBA Teams are split into 2 Leagues: [The Eastern Conference](https://en.wikipedia.org/wiki/Eastern_Conference_(NBA)) and [The Western Conference](https://en.wikipedia.org/wiki/Western_Conference_(NBA)). What is the relationships of the clusters with these leagues. Explain.\n",
    "4. Using the columns `PLAYER1_NAME`, `PLAYER2_NAME`, `PLAYER3_NAME` construct a matrix (don't display) that has the total number of interactions the players had during the season with each other. Then keep only the players that has a total of 500 or more interactions during the season, and display the resulting matrix.\n",
    "5. Using the matrix you constructed in the previous step, draw a dendrogram of the players (with a total of 500 or more interactions), and decide how many clusters are appropriate.\n",
    "6. Using the matrix and the dendrogram you constructed in the previous steps, construct a hiearchical clustering model for the players and split them into the number of clusters you determined above."
   ]
  },
  {
   "cell_type": "markdown",
   "id": "cfbe24e9",
   "metadata": {},
   "source": [
    "_I know that this is not a good solution . I later discovered the method I used in part 2 and did not have time to apply it to part 1 of the question.._"
   ]
  },
  {
   "cell_type": "code",
   "execution_count": 13,
   "id": "941c9613-b016-45d3-878d-2ea312ab6f51",
   "metadata": {},
   "outputs": [],
   "source": [
    "temp = NBA[['PLAYER1_TEAM_ABBREVIATION', 'PLAYER2_TEAM_ABBREVIATION', 'PLAYER3_TEAM_ABBREVIATION']].values.tolist()\n",
    "temp = [[x for x in y if not pd.isnull(x)] for y in temp] # clean nulls\n",
    "\n",
    "three_player_abbrvs = [sorted(np.unique(x)) for x in temp if len(x)==3] # convert 3 player interactions to 2 player interactions\n",
    "two_player_abbrvs = [sorted(x) for x in temp if len(x)==2] # get 2 player interactions\n",
    "\n",
    "abbrv_interactions = np.concatenate((three_player_abbrvs, two_player_abbrvs)) # concatenate three player and two player interaction pairs"
   ]
  },
  {
   "cell_type": "code",
   "execution_count": 14,
   "id": "1197e7e6-c471-4065-8b0f-5129410b4779",
   "metadata": {},
   "outputs": [],
   "source": [
    "abbrv_interactions_df = pd.DataFrame(data = abbrv_interactions, columns = ['team1', 'team2'])\n",
    "abbrv_interaction_count_df = pd.crosstab(abbrv_interactions_df['team1'], abbrv_interactions_df['team2'])"
   ]
  },
  {
   "cell_type": "code",
   "execution_count": 15,
   "id": "ef3f4ed4",
   "metadata": {},
   "outputs": [],
   "source": [
    "abbrv_interaction_count_m = np.where(abbrv_interaction_count_df, abbrv_interaction_count_df, abbrv_interaction_count_df.T)"
   ]
  },
  {
   "cell_type": "code",
   "execution_count": 16,
   "id": "b58dcd3f",
   "metadata": {},
   "outputs": [],
   "source": [
    "np.fill_diagonal(abbrv_interaction_count_m , 0)"
   ]
  },
  {
   "cell_type": "code",
   "execution_count": 17,
   "id": "4b8283ec",
   "metadata": {},
   "outputs": [
    {
     "name": "stderr",
     "output_type": "stream",
     "text": [
      "C:\\Users\\sahin\\AppData\\Local\\Temp\\ipykernel_23656\\2355422214.py:3: ClusterWarning: scipy.cluster: The symmetric non-negative hollow observation matrix looks suspiciously like an uncondensed distance matrix\n",
      "  dendro = hc.dendrogram(hc.linkage(abbrv_interaction_count_m, method = 'single'), labels = abbrv_interaction_count_df.columns)\n"
     ]
    },
    {
     "data": {
      "image/png": "[encoded data removed]",
      "text/plain": [
       "<Figure size 1200x600 with 1 Axes>"
      ]
     },
     "metadata": {},
     "output_type": "display_data"
    }
   ],
   "source": [
    "plt.figure(figsize=(12, 6))\n",
    "\n",
    "dendro = hc.dendrogram(hc.linkage(abbrv_interaction_count_m, method = 'single'), labels = abbrv_interaction_count_df.columns)\n",
    "\n",
    "plt.title('Dendrogram for the interactions the teams had with each other')\n",
    "plt.show()"
   ]
  },
  {
   "cell_type": "markdown",
   "id": "0f39f16b",
   "metadata": {},
   "source": [
    "- Right side --> Eastern Conference\n",
    "- Left side --> Western Conference"
   ]
  },
  {
   "cell_type": "code",
   "execution_count": 18,
   "id": "0538b6f9",
   "metadata": {},
   "outputs": [],
   "source": [
    "encoder = preprocessing.OneHotEncoder() \n",
    "abbrv_data = encoder.fit_transform(abbrv_interactions)\n",
    "abbrv_co_occurance_M = np.dot(abbrv_data.T, abbrv_data)\n",
    "labels = [i[3:] for i in encoder.get_feature_names_out()]\n",
    "abbrv_co_occurance_M = abbrv_co_occurance_M.todense()"
   ]
  },
  {
   "cell_type": "code",
   "execution_count": 19,
   "id": "8b70c6da",
   "metadata": {},
   "outputs": [],
   "source": [
    "np.fill_diagonal(abbrv_co_occurance_M, 0)\n",
    "\n",
    "abbrv_co_occurance_df = pd.DataFrame(abbrv_co_occurance_M, columns=labels, index=labels)"
   ]
  },
  {
   "cell_type": "code",
   "execution_count": 20,
   "id": "d3a9bb13",
   "metadata": {},
   "outputs": [],
   "source": [
    "agg_model = AgglomerativeClustering(n_clusters=2)\n",
    "labels = agg_model.fit_predict(abbrv_interaction_count_df)"
   ]
  },
  {
   "cell_type": "code",
   "execution_count": 21,
   "id": "407f83a2",
   "metadata": {},
   "outputs": [],
   "source": [
    "temp = NBA[['PLAYER1_NAME', 'PLAYER2_NAME', 'PLAYER3_NAME']].values.tolist()\n",
    "temp = [[x for x in y if not pd.isnull(x)] for y in temp] # clean nulls\n",
    "\n",
    "# convert 3 players interactions to 2 player interactions\n",
    "three_player_names = [[sorted(x) for x in combinations(y, 2)] for y in temp if len(y)==3] \n",
    "three_player_names = np.reshape(three_player_names, (2001*3, 2))\n",
    "\n",
    "# get 2 players interactions\n",
    "two_player_names = [sorted(x) for x in temp if len(x)==2] \n",
    "\n",
    "# concatenate three players, two players and one player interaction pairs\n",
    "name_interactions = np.concatenate((three_player_names, two_player_names)) "
   ]
  },
  {
   "cell_type": "code",
   "execution_count": 22,
   "id": "2c64c11e",
   "metadata": {},
   "outputs": [],
   "source": [
    "encoder = preprocessing.OneHotEncoder() \n",
    "name_data = encoder.fit_transform(name_interactions)\n",
    "name_co_occurance_M = np.dot(name_data.T, name_data)\n",
    "labels = [i[3:] for i in encoder.get_feature_names_out()]\n",
    "name_co_occurance_M = name_co_occurance_M.todense()"
   ]
  },
  {
   "cell_type": "code",
   "execution_count": 23,
   "id": "159d49b7",
   "metadata": {},
   "outputs": [],
   "source": [
    "np.fill_diagonal(name_co_occurance_M, 0)\n",
    "\n",
    "name_co_occurance_df = pd.DataFrame(name_co_occurance_M, columns=labels, index=labels)\n",
    "\n",
    "flag = name_co_occurance_df.sum() > 500\n",
    "\n",
    "name_co_occurance_500_df = name_co_occurance_df.loc[flag.values, flag.values]"
   ]
  },
  {
   "cell_type": "code",
   "execution_count": 24,
   "id": "246ec3d9",
   "metadata": {},
   "outputs": [
    {
     "data": {
      "text/plain": [
       "array([[0., 0., 0., ..., 3., 1., 0.],\n",
       "       [0., 0., 0., ..., 0., 0., 2.],\n",
       "       [0., 0., 0., ..., 0., 0., 1.],\n",
       "       ...,\n",
       "       [3., 0., 0., ..., 0., 0., 0.],\n",
       "       [1., 0., 0., ..., 0., 0., 0.],\n",
       "       [0., 2., 1., ..., 0., 0., 0.]])"
      ]
     },
     "execution_count": 24,
     "metadata": {},
     "output_type": "execute_result"
    }
   ],
   "source": [
    "name_co_occurance_500_M = name_co_occurance_500_df.values\n",
    "\n",
    "name_co_occurance_500_M"
   ]
  },
  {
   "cell_type": "code",
   "execution_count": 25,
   "id": "1cf71bbf",
   "metadata": {},
   "outputs": [
    {
     "name": "stderr",
     "output_type": "stream",
     "text": [
      "C:\\Users\\sahin\\AppData\\Local\\Temp\\ipykernel_23656\\365814244.py:3: ClusterWarning: scipy.cluster: The symmetric non-negative hollow observation matrix looks suspiciously like an uncondensed distance matrix\n",
      "  dendro = hc.dendrogram(hc.linkage(name_co_occurance_500_M, method = 'single'))\n"
     ]
    },
    {
     "data": {
      "image/png": "[encoded data removed]",
      "text/plain": [
       "<Figure size 3600x1500 with 1 Axes>"
      ]
     },
     "metadata": {},
     "output_type": "display_data"
    }
   ],
   "source": [
    "plt.figure(figsize=(36, 15))\n",
    "\n",
    "dendro = hc.dendrogram(hc.linkage(name_co_occurance_500_M, method = 'single'))\n",
    "\n",
    "plt.title('Dendrogram for the interactions the players had with each other')\n",
    "plt.show()"
   ]
  },
  {
   "cell_type": "markdown",
   "id": "20e69572",
   "metadata": {},
   "source": [
    "4 clusters is appropriate."
   ]
  }
 ],
 "metadata": {
  "kernelspec": {
   "display_name": "Python 3.10.8 64-bit (microsoft store)",
   "language": "python",
   "name": "python3"
  },
  "language_info": {
   "codemirror_mode": {
    "name": "ipython",
    "version": 3
   },
   "file_extension": ".py",
   "mimetype": "text/x-python",
   "name": "python",
   "nbconvert_exporter": "python",
   "pygments_lexer": "ipython3",
   "version": "3.10.8"
  },
  "vscode": {
   "interpreter": {
    "hash": "8e8271cb67d71434d71d7359a5244618f962c24c33d897b4dd8966bfba9a1715"
   }
  }
 },
 "nbformat": 4,
 "nbformat_minor": 5
}
