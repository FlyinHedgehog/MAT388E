{
 "cells": [
  {
   "cell_type": "markdown",
   "id": "47dff7d2-6353-478c-b39d-9ba83d7b779b",
   "metadata": {},
   "source": [
    "# MAT 388, HW4"
   ]
  },
  {
   "cell_type": "code",
   "execution_count": 1,
   "id": "e484b377",
   "metadata": {},
   "outputs": [
    {
     "name": "stderr",
     "output_type": "stream",
     "text": [
      "C:\\Users\\sahin\\AppData\\Local\\Packages\\PythonSoftwareFoundation.Python.3.10_qbz5n2kfra8p0\\LocalCache\\local-packages\\Python310\\site-packages\\tqdm\\auto.py:22: TqdmWarning: IProgress not found. Please update jupyter and ipywidgets. See https://ipywidgets.readthedocs.io/en/stable/user_install.html\n",
      "  from .autonotebook import tqdm as notebook_tqdm\n"
     ]
    }
   ],
   "source": [
    "from scipy.io import loadmat\n",
    "import yfinance as yf\n",
    "import numpy as np\n",
    "import pandas as pd\n",
    "\n",
    "import matplotlib.pyplot as plt\n",
    "import tensorflow as tf\n",
    "import tensorflow_datasets as tfds\n",
    "\n",
    "from urllib.request import urlretrieve\n",
    "from sklearn.preprocessing import MinMaxScaler, LabelBinarizer\n",
    "from tensorflow.keras.layers import LSTM, ConvLSTM2D, BatchNormalization\n",
    "from keras.models import Sequential\n",
    "from keras.layers import Dense, Activation\n",
    "from sklearn.metrics import accuracy_score, confusion_matrix\n",
    "from sklearn.model_selection import train_test_split, KFold, cross_val_score\n",
    "from sklearn.feature_extraction.text import CountVectorizer"
   ]
  },
  {
   "cell_type": "markdown",
   "id": "35472d1b-55e1-444c-99ef-74b17f961e7b",
   "metadata": {},
   "source": [
    "## Q1\n",
    "\n",
    "For this question we are goint to use [CELEB_A](https://www.tensorflow.org/datasets/catalog/celeb_a) dataset through [tensorflow datasets](https://www.tensorflow.org/datasets).\n",
    "\n",
    "1. Ingest the data, and select 10000 images from the dataset. Put the images under a variable called `X` and class labels (attributes) into `y`.\n",
    "2. Build a neural network model for `X` against `Glasses` attribute in `y`.\n",
    "3. Test the accuracy of your model using a 5-fold cross-validation. (I want a %95 confidence interval on the returned result using a t-test as I did in one of my lectures.)\n",
    "4. Repeat Steps 2 and 3 for `Male` and `Bangs` attributes.\n",
    "5. Compare your results for `Glasses`, `Male` and `Bangs`. Which one is better? Why? Explain."
   ]
  },
  {
   "cell_type": "code",
   "execution_count": 2,
   "id": "4137fb27-6137-4f05-aced-83e1d7452fcf",
   "metadata": {},
   "outputs": [
    {
     "name": "stdout",
     "output_type": "stream",
     "text": [
      "Downloading and preparing dataset Unknown size (download: Unknown size, generated: Unknown size, total: Unknown size) to C:\\Users\\sahin\\tensorflow_datasets\\celeb_a\\2.0.1...\n"
     ]
    },
    {
     "name": "stderr",
     "output_type": "stream",
     "text": [
      "Dl Size...: 100%|██████████| 41713467/41713467 [00:01<00:00, 37547540.75 MiB/s] \n",
      "Dl Completed...:  75%|███████▌  | 3/4 [00:01<00:00,  2.68 url/s]\n"
     ]
    },
    {
     "ename": "DownloadError",
     "evalue": "Failed to get url https://doc-0s-84-docs.googleusercontent.com/docs/securesc/ha0ro937gcuc7l7deffksulhg5h7mbp1/63h8fbtrtt71st00tfb4f5cj9bcbm860/1671466950000/13182073909007362810/*/0B7EVK8r0v71pZjFTYXZWM3FlRnM?e=download&uuid=eadd9acd-0fc6-426c-b16c-09048376b79b. HTTP code: 429.",
     "output_type": "error",
     "traceback": [
      "\u001b[1;31m---------------------------------------------------------------------------\u001b[0m",
      "\u001b[1;31mDownloadError\u001b[0m                             Traceback (most recent call last)",
      "Cell \u001b[1;32mIn [2], line 3\u001b[0m\n\u001b[0;32m      1\u001b[0m \u001b[39m# I couldn't get the data\u001b[39;00m\n\u001b[1;32m----> 3\u001b[0m a \u001b[39m=\u001b[39m tfds\u001b[39m.\u001b[39;49mload(\u001b[39m\"\u001b[39;49m\u001b[39mceleb_a\u001b[39;49m\u001b[39m\"\u001b[39;49m, split\u001b[39m=\u001b[39;49m\u001b[39m\"\u001b[39;49m\u001b[39mtrain\u001b[39;49m\u001b[39m\"\u001b[39;49m, shuffle_files\u001b[39m=\u001b[39;49m\u001b[39mTrue\u001b[39;49;00m)\n\u001b[0;32m      5\u001b[0m a\n",
      "File \u001b[1;32m~\\AppData\\Local\\Packages\\PythonSoftwareFoundation.Python.3.10_qbz5n2kfra8p0\\LocalCache\\local-packages\\Python310\\site-packages\\tensorflow_datasets\\core\\logging\\__init__.py:250\u001b[0m, in \u001b[0;36mload.<locals>.decorator\u001b[1;34m(function, unused_none_instance, args, kwargs)\u001b[0m\n\u001b[0;32m    248\u001b[0m name \u001b[39m=\u001b[39m args[\u001b[39m0\u001b[39m] \u001b[39mif\u001b[39;00m args \u001b[39melse\u001b[39;00m kwargs[\u001b[39m\"\u001b[39m\u001b[39mname\u001b[39m\u001b[39m\"\u001b[39m]\n\u001b[0;32m    249\u001b[0m \u001b[39mtry\u001b[39;00m:\n\u001b[1;32m--> 250\u001b[0m   \u001b[39mreturn\u001b[39;00m function(\u001b[39m*\u001b[39margs, \u001b[39m*\u001b[39m\u001b[39m*\u001b[39mkwargs)\n\u001b[0;32m    251\u001b[0m \u001b[39mexcept\u001b[39;00m \u001b[39mException\u001b[39;00m:\n\u001b[0;32m    252\u001b[0m   metadata\u001b[39m.\u001b[39mmark_error()\n",
      "File \u001b[1;32m~\\AppData\\Local\\Packages\\PythonSoftwareFoundation.Python.3.10_qbz5n2kfra8p0\\LocalCache\\local-packages\\Python310\\site-packages\\tensorflow_datasets\\core\\load.py:575\u001b[0m, in \u001b[0;36mload\u001b[1;34m(name, split, data_dir, batch_size, shuffle_files, download, as_supervised, decoders, read_config, with_info, builder_kwargs, download_and_prepare_kwargs, as_dataset_kwargs, try_gcs)\u001b[0m\n\u001b[0;32m    573\u001b[0m \u001b[39mif\u001b[39;00m download:\n\u001b[0;32m    574\u001b[0m   download_and_prepare_kwargs \u001b[39m=\u001b[39m download_and_prepare_kwargs \u001b[39mor\u001b[39;00m {}\n\u001b[1;32m--> 575\u001b[0m   dbuilder\u001b[39m.\u001b[39mdownload_and_prepare(\u001b[39m*\u001b[39m\u001b[39m*\u001b[39mdownload_and_prepare_kwargs)\n\u001b[0;32m    577\u001b[0m \u001b[39mif\u001b[39;00m as_dataset_kwargs \u001b[39mis\u001b[39;00m \u001b[39mNone\u001b[39;00m:\n\u001b[0;32m    578\u001b[0m   as_dataset_kwargs \u001b[39m=\u001b[39m {}\n",
      "File \u001b[1;32m~\\AppData\\Local\\Packages\\PythonSoftwareFoundation.Python.3.10_qbz5n2kfra8p0\\LocalCache\\local-packages\\Python310\\site-packages\\tensorflow_datasets\\core\\dataset_builder.py:523\u001b[0m, in \u001b[0;36mDatasetBuilder.download_and_prepare\u001b[1;34m(self, download_dir, download_config, file_format)\u001b[0m\n\u001b[0;32m    521\u001b[0m   \u001b[39mself\u001b[39m\u001b[39m.\u001b[39minfo\u001b[39m.\u001b[39mread_from_directory(\u001b[39mself\u001b[39m\u001b[39m.\u001b[39m_data_dir)\n\u001b[0;32m    522\u001b[0m \u001b[39melse\u001b[39;00m:\n\u001b[1;32m--> 523\u001b[0m   \u001b[39mself\u001b[39;49m\u001b[39m.\u001b[39;49m_download_and_prepare(\n\u001b[0;32m    524\u001b[0m       dl_manager\u001b[39m=\u001b[39;49mdl_manager,\n\u001b[0;32m    525\u001b[0m       download_config\u001b[39m=\u001b[39;49mdownload_config,\n\u001b[0;32m    526\u001b[0m   )\n\u001b[0;32m    528\u001b[0m   \u001b[39m# NOTE: If modifying the lines below to put additional information in\u001b[39;00m\n\u001b[0;32m    529\u001b[0m   \u001b[39m# DatasetInfo, you'll likely also want to update\u001b[39;00m\n\u001b[0;32m    530\u001b[0m   \u001b[39m# DatasetInfo.read_from_directory to possibly restore these attributes\u001b[39;00m\n\u001b[0;32m    531\u001b[0m   \u001b[39m# when reading from package data.\u001b[39;00m\n\u001b[0;32m    532\u001b[0m   \u001b[39mself\u001b[39m\u001b[39m.\u001b[39minfo\u001b[39m.\u001b[39mdownload_size \u001b[39m=\u001b[39m dl_manager\u001b[39m.\u001b[39mdownloaded_size\n",
      "File \u001b[1;32m~\\AppData\\Local\\Packages\\PythonSoftwareFoundation.Python.3.10_qbz5n2kfra8p0\\LocalCache\\local-packages\\Python310\\site-packages\\tensorflow_datasets\\core\\dataset_builder.py:1244\u001b[0m, in \u001b[0;36mGeneratorBasedBuilder._download_and_prepare\u001b[1;34m(self, dl_manager, download_config)\u001b[0m\n\u001b[0;32m   1242\u001b[0m \u001b[39melse\u001b[39;00m:\n\u001b[0;32m   1243\u001b[0m   optional_pipeline_kwargs \u001b[39m=\u001b[39m {}\n\u001b[1;32m-> 1244\u001b[0m split_generators \u001b[39m=\u001b[39m \u001b[39mself\u001b[39m\u001b[39m.\u001b[39m_split_generators(  \u001b[39m# pylint: disable=unexpected-keyword-arg\u001b[39;00m\n\u001b[0;32m   1245\u001b[0m     dl_manager, \u001b[39m*\u001b[39m\u001b[39m*\u001b[39moptional_pipeline_kwargs)\n\u001b[0;32m   1246\u001b[0m \u001b[39m# TODO(tfds): Could be removed once all datasets are migrated.\u001b[39;00m\n\u001b[0;32m   1247\u001b[0m \u001b[39m# https://github.com/tensorflow/datasets/issues/2537\u001b[39;00m\n\u001b[0;32m   1248\u001b[0m \u001b[39m# Legacy mode (eventually convert list[SplitGeneratorLegacy] -> dict)\u001b[39;00m\n\u001b[0;32m   1249\u001b[0m split_generators \u001b[39m=\u001b[39m split_builder\u001b[39m.\u001b[39mnormalize_legacy_split_generators(\n\u001b[0;32m   1250\u001b[0m     split_generators\u001b[39m=\u001b[39msplit_generators,\n\u001b[0;32m   1251\u001b[0m     generator_fn\u001b[39m=\u001b[39m\u001b[39mself\u001b[39m\u001b[39m.\u001b[39m_generate_examples,\n\u001b[0;32m   1252\u001b[0m     is_beam\u001b[39m=\u001b[39m\u001b[39misinstance\u001b[39m(\u001b[39mself\u001b[39m, BeamBasedBuilder),\n\u001b[0;32m   1253\u001b[0m )\n",
      "File \u001b[1;32m~\\AppData\\Local\\Packages\\PythonSoftwareFoundation.Python.3.10_qbz5n2kfra8p0\\LocalCache\\local-packages\\Python310\\site-packages\\tensorflow_datasets\\image\\celeba.py:125\u001b[0m, in \u001b[0;36mCelebA._split_generators\u001b[1;34m(self, dl_manager)\u001b[0m\n\u001b[0;32m    124\u001b[0m \u001b[39mdef\u001b[39;00m \u001b[39m_split_generators\u001b[39m(\u001b[39mself\u001b[39m, dl_manager):\n\u001b[1;32m--> 125\u001b[0m   downloaded_dirs \u001b[39m=\u001b[39m dl_manager\u001b[39m.\u001b[39;49mdownload({\n\u001b[0;32m    126\u001b[0m       \u001b[39m\"\u001b[39;49m\u001b[39mimg_align_celeba\u001b[39;49m\u001b[39m\"\u001b[39;49m: IMG_ALIGNED_DATA,\n\u001b[0;32m    127\u001b[0m       \u001b[39m\"\u001b[39;49m\u001b[39mlist_eval_partition\u001b[39;49m\u001b[39m\"\u001b[39;49m: EVAL_LIST,\n\u001b[0;32m    128\u001b[0m       \u001b[39m\"\u001b[39;49m\u001b[39mlist_attr_celeba\u001b[39;49m\u001b[39m\"\u001b[39;49m: ATTR_DATA,\n\u001b[0;32m    129\u001b[0m       \u001b[39m\"\u001b[39;49m\u001b[39mlandmarks_celeba\u001b[39;49m\u001b[39m\"\u001b[39;49m: LANDMARKS_DATA,\n\u001b[0;32m    130\u001b[0m   })\n\u001b[0;32m    132\u001b[0m   \u001b[39m# Load all images in memory (~1 GiB)\u001b[39;00m\n\u001b[0;32m    133\u001b[0m   \u001b[39m# Use split to convert: `img_align_celeba/000005.jpg` -> `000005.jpg`\u001b[39;00m\n\u001b[0;32m    134\u001b[0m   all_images \u001b[39m=\u001b[39m {\n\u001b[0;32m    135\u001b[0m       os\u001b[39m.\u001b[39mpath\u001b[39m.\u001b[39msplit(k)[\u001b[39m-\u001b[39m\u001b[39m1\u001b[39m]: img \u001b[39mfor\u001b[39;00m k, img \u001b[39min\u001b[39;00m dl_manager\u001b[39m.\u001b[39miter_archive(\n\u001b[0;32m    136\u001b[0m           downloaded_dirs[\u001b[39m\"\u001b[39m\u001b[39mimg_align_celeba\u001b[39m\u001b[39m\"\u001b[39m])\n\u001b[0;32m    137\u001b[0m   }\n",
      "File \u001b[1;32m~\\AppData\\Local\\Packages\\PythonSoftwareFoundation.Python.3.10_qbz5n2kfra8p0\\LocalCache\\local-packages\\Python310\\site-packages\\tensorflow_datasets\\core\\download\\download_manager.py:552\u001b[0m, in \u001b[0;36mDownloadManager.download\u001b[1;34m(self, url_or_urls)\u001b[0m\n\u001b[0;32m    550\u001b[0m \u001b[39m# Add progress bar to follow the download state\u001b[39;00m\n\u001b[0;32m    551\u001b[0m \u001b[39mwith\u001b[39;00m \u001b[39mself\u001b[39m\u001b[39m.\u001b[39m_downloader\u001b[39m.\u001b[39mtqdm():\n\u001b[1;32m--> 552\u001b[0m   \u001b[39mreturn\u001b[39;00m _map_promise(\u001b[39mself\u001b[39;49m\u001b[39m.\u001b[39;49m_download, url_or_urls)\n",
      "File \u001b[1;32m~\\AppData\\Local\\Packages\\PythonSoftwareFoundation.Python.3.10_qbz5n2kfra8p0\\LocalCache\\local-packages\\Python310\\site-packages\\tensorflow_datasets\\core\\download\\download_manager.py:770\u001b[0m, in \u001b[0;36m_map_promise\u001b[1;34m(map_fn, all_inputs)\u001b[0m\n\u001b[0;32m    768\u001b[0m \u001b[39m\"\"\"Map the function into each element and resolve the promise.\"\"\"\u001b[39;00m\n\u001b[0;32m    769\u001b[0m all_promises \u001b[39m=\u001b[39m tf\u001b[39m.\u001b[39mnest\u001b[39m.\u001b[39mmap_structure(map_fn, all_inputs)  \u001b[39m# Apply the function\u001b[39;00m\n\u001b[1;32m--> 770\u001b[0m res \u001b[39m=\u001b[39m tf\u001b[39m.\u001b[39;49mnest\u001b[39m.\u001b[39;49mmap_structure(\u001b[39mlambda\u001b[39;49;00m p: p\u001b[39m.\u001b[39;49mget(), all_promises)  \u001b[39m# Wait promises\u001b[39;00m\n\u001b[0;32m    771\u001b[0m \u001b[39mreturn\u001b[39;00m res\n",
      "File \u001b[1;32m~\\AppData\\Local\\Packages\\PythonSoftwareFoundation.Python.3.10_qbz5n2kfra8p0\\LocalCache\\local-packages\\Python310\\site-packages\\tensorflow\\python\\util\\nest.py:917\u001b[0m, in \u001b[0;36mmap_structure\u001b[1;34m(func, *structure, **kwargs)\u001b[0m\n\u001b[0;32m    913\u001b[0m flat_structure \u001b[39m=\u001b[39m (flatten(s, expand_composites) \u001b[39mfor\u001b[39;00m s \u001b[39min\u001b[39;00m structure)\n\u001b[0;32m    914\u001b[0m entries \u001b[39m=\u001b[39m \u001b[39mzip\u001b[39m(\u001b[39m*\u001b[39mflat_structure)\n\u001b[0;32m    916\u001b[0m \u001b[39mreturn\u001b[39;00m pack_sequence_as(\n\u001b[1;32m--> 917\u001b[0m     structure[\u001b[39m0\u001b[39m], [func(\u001b[39m*\u001b[39mx) \u001b[39mfor\u001b[39;00m x \u001b[39min\u001b[39;00m entries],\n\u001b[0;32m    918\u001b[0m     expand_composites\u001b[39m=\u001b[39mexpand_composites)\n",
      "File \u001b[1;32m~\\AppData\\Local\\Packages\\PythonSoftwareFoundation.Python.3.10_qbz5n2kfra8p0\\LocalCache\\local-packages\\Python310\\site-packages\\tensorflow\\python\\util\\nest.py:917\u001b[0m, in \u001b[0;36m<listcomp>\u001b[1;34m(.0)\u001b[0m\n\u001b[0;32m    913\u001b[0m flat_structure \u001b[39m=\u001b[39m (flatten(s, expand_composites) \u001b[39mfor\u001b[39;00m s \u001b[39min\u001b[39;00m structure)\n\u001b[0;32m    914\u001b[0m entries \u001b[39m=\u001b[39m \u001b[39mzip\u001b[39m(\u001b[39m*\u001b[39mflat_structure)\n\u001b[0;32m    916\u001b[0m \u001b[39mreturn\u001b[39;00m pack_sequence_as(\n\u001b[1;32m--> 917\u001b[0m     structure[\u001b[39m0\u001b[39m], [func(\u001b[39m*\u001b[39;49mx) \u001b[39mfor\u001b[39;00m x \u001b[39min\u001b[39;00m entries],\n\u001b[0;32m    918\u001b[0m     expand_composites\u001b[39m=\u001b[39mexpand_composites)\n",
      "File \u001b[1;32m~\\AppData\\Local\\Packages\\PythonSoftwareFoundation.Python.3.10_qbz5n2kfra8p0\\LocalCache\\local-packages\\Python310\\site-packages\\tensorflow_datasets\\core\\download\\download_manager.py:770\u001b[0m, in \u001b[0;36m_map_promise.<locals>.<lambda>\u001b[1;34m(p)\u001b[0m\n\u001b[0;32m    768\u001b[0m \u001b[39m\"\"\"Map the function into each element and resolve the promise.\"\"\"\u001b[39;00m\n\u001b[0;32m    769\u001b[0m all_promises \u001b[39m=\u001b[39m tf\u001b[39m.\u001b[39mnest\u001b[39m.\u001b[39mmap_structure(map_fn, all_inputs)  \u001b[39m# Apply the function\u001b[39;00m\n\u001b[1;32m--> 770\u001b[0m res \u001b[39m=\u001b[39m tf\u001b[39m.\u001b[39mnest\u001b[39m.\u001b[39mmap_structure(\u001b[39mlambda\u001b[39;00m p: p\u001b[39m.\u001b[39;49mget(), all_promises)  \u001b[39m# Wait promises\u001b[39;00m\n\u001b[0;32m    771\u001b[0m \u001b[39mreturn\u001b[39;00m res\n",
      "File \u001b[1;32m~\\AppData\\Local\\Packages\\PythonSoftwareFoundation.Python.3.10_qbz5n2kfra8p0\\LocalCache\\local-packages\\Python310\\site-packages\\promise\\promise.py:512\u001b[0m, in \u001b[0;36mPromise.get\u001b[1;34m(self, timeout)\u001b[0m\n\u001b[0;32m    510\u001b[0m target \u001b[39m=\u001b[39m \u001b[39mself\u001b[39m\u001b[39m.\u001b[39m_target()\n\u001b[0;32m    511\u001b[0m \u001b[39mself\u001b[39m\u001b[39m.\u001b[39m_wait(timeout \u001b[39mor\u001b[39;00m DEFAULT_TIMEOUT)\n\u001b[1;32m--> 512\u001b[0m \u001b[39mreturn\u001b[39;00m \u001b[39mself\u001b[39;49m\u001b[39m.\u001b[39;49m_target_settled_value(_raise\u001b[39m=\u001b[39;49m\u001b[39mTrue\u001b[39;49;00m)\n",
      "File \u001b[1;32m~\\AppData\\Local\\Packages\\PythonSoftwareFoundation.Python.3.10_qbz5n2kfra8p0\\LocalCache\\local-packages\\Python310\\site-packages\\promise\\promise.py:516\u001b[0m, in \u001b[0;36mPromise._target_settled_value\u001b[1;34m(self, _raise)\u001b[0m\n\u001b[0;32m    514\u001b[0m \u001b[39mdef\u001b[39;00m \u001b[39m_target_settled_value\u001b[39m(\u001b[39mself\u001b[39m, _raise\u001b[39m=\u001b[39m\u001b[39mFalse\u001b[39;00m):\n\u001b[0;32m    515\u001b[0m     \u001b[39m# type: (bool) -> Any\u001b[39;00m\n\u001b[1;32m--> 516\u001b[0m     \u001b[39mreturn\u001b[39;00m \u001b[39mself\u001b[39;49m\u001b[39m.\u001b[39;49m_target()\u001b[39m.\u001b[39;49m_settled_value(_raise)\n",
      "File \u001b[1;32m~\\AppData\\Local\\Packages\\PythonSoftwareFoundation.Python.3.10_qbz5n2kfra8p0\\LocalCache\\local-packages\\Python310\\site-packages\\promise\\promise.py:226\u001b[0m, in \u001b[0;36mPromise._settled_value\u001b[1;34m(self, _raise)\u001b[0m\n\u001b[0;32m    224\u001b[0m \u001b[39mif\u001b[39;00m _raise:\n\u001b[0;32m    225\u001b[0m     raise_val \u001b[39m=\u001b[39m \u001b[39mself\u001b[39m\u001b[39m.\u001b[39m_fulfillment_handler0\n\u001b[1;32m--> 226\u001b[0m     reraise(\u001b[39mtype\u001b[39;49m(raise_val), raise_val, \u001b[39mself\u001b[39;49m\u001b[39m.\u001b[39;49m_traceback)\n\u001b[0;32m    227\u001b[0m \u001b[39mreturn\u001b[39;00m \u001b[39mself\u001b[39m\u001b[39m.\u001b[39m_fulfillment_handler0\n",
      "File \u001b[1;32m~\\AppData\\Local\\Packages\\PythonSoftwareFoundation.Python.3.10_qbz5n2kfra8p0\\LocalCache\\local-packages\\Python310\\site-packages\\six.py:719\u001b[0m, in \u001b[0;36mreraise\u001b[1;34m(tp, value, tb)\u001b[0m\n\u001b[0;32m    717\u001b[0m     \u001b[39mif\u001b[39;00m value\u001b[39m.\u001b[39m__traceback__ \u001b[39mis\u001b[39;00m \u001b[39mnot\u001b[39;00m tb:\n\u001b[0;32m    718\u001b[0m         \u001b[39mraise\u001b[39;00m value\u001b[39m.\u001b[39mwith_traceback(tb)\n\u001b[1;32m--> 719\u001b[0m     \u001b[39mraise\u001b[39;00m value\n\u001b[0;32m    720\u001b[0m \u001b[39mfinally\u001b[39;00m:\n\u001b[0;32m    721\u001b[0m     value \u001b[39m=\u001b[39m \u001b[39mNone\u001b[39;00m\n",
      "File \u001b[1;32m~\\AppData\\Local\\Packages\\PythonSoftwareFoundation.Python.3.10_qbz5n2kfra8p0\\LocalCache\\local-packages\\Python310\\site-packages\\promise\\promise.py:844\u001b[0m, in \u001b[0;36m_process_future_result.<locals>.handle_future_result\u001b[1;34m(future)\u001b[0m\n\u001b[0;32m    841\u001b[0m \u001b[39mdef\u001b[39;00m \u001b[39mhandle_future_result\u001b[39m(future):\n\u001b[0;32m    842\u001b[0m     \u001b[39m# type: (Any) -> None\u001b[39;00m\n\u001b[0;32m    843\u001b[0m     \u001b[39mtry\u001b[39;00m:\n\u001b[1;32m--> 844\u001b[0m         resolve(future\u001b[39m.\u001b[39;49mresult())\n\u001b[0;32m    845\u001b[0m     \u001b[39mexcept\u001b[39;00m \u001b[39mException\u001b[39;00m \u001b[39mas\u001b[39;00m e:\n\u001b[0;32m    846\u001b[0m         tb \u001b[39m=\u001b[39m exc_info()[\u001b[39m2\u001b[39m]\n",
      "File \u001b[1;32mC:\\Program Files\\WindowsApps\\PythonSoftwareFoundation.Python.3.10_3.10.2544.0_x64__qbz5n2kfra8p0\\lib\\concurrent\\futures\\_base.py:451\u001b[0m, in \u001b[0;36mFuture.result\u001b[1;34m(self, timeout)\u001b[0m\n\u001b[0;32m    449\u001b[0m     \u001b[39mraise\u001b[39;00m CancelledError()\n\u001b[0;32m    450\u001b[0m \u001b[39melif\u001b[39;00m \u001b[39mself\u001b[39m\u001b[39m.\u001b[39m_state \u001b[39m==\u001b[39m FINISHED:\n\u001b[1;32m--> 451\u001b[0m     \u001b[39mreturn\u001b[39;00m \u001b[39mself\u001b[39;49m\u001b[39m.\u001b[39;49m__get_result()\n\u001b[0;32m    453\u001b[0m \u001b[39mself\u001b[39m\u001b[39m.\u001b[39m_condition\u001b[39m.\u001b[39mwait(timeout)\n\u001b[0;32m    455\u001b[0m \u001b[39mif\u001b[39;00m \u001b[39mself\u001b[39m\u001b[39m.\u001b[39m_state \u001b[39min\u001b[39;00m [CANCELLED, CANCELLED_AND_NOTIFIED]:\n",
      "File \u001b[1;32mC:\\Program Files\\WindowsApps\\PythonSoftwareFoundation.Python.3.10_3.10.2544.0_x64__qbz5n2kfra8p0\\lib\\concurrent\\futures\\_base.py:403\u001b[0m, in \u001b[0;36mFuture.__get_result\u001b[1;34m(self)\u001b[0m\n\u001b[0;32m    401\u001b[0m \u001b[39mif\u001b[39;00m \u001b[39mself\u001b[39m\u001b[39m.\u001b[39m_exception:\n\u001b[0;32m    402\u001b[0m     \u001b[39mtry\u001b[39;00m:\n\u001b[1;32m--> 403\u001b[0m         \u001b[39mraise\u001b[39;00m \u001b[39mself\u001b[39m\u001b[39m.\u001b[39m_exception\n\u001b[0;32m    404\u001b[0m     \u001b[39mfinally\u001b[39;00m:\n\u001b[0;32m    405\u001b[0m         \u001b[39m# Break a reference cycle with the exception in self._exception\u001b[39;00m\n\u001b[0;32m    406\u001b[0m         \u001b[39mself\u001b[39m \u001b[39m=\u001b[39m \u001b[39mNone\u001b[39;00m\n",
      "File \u001b[1;32mC:\\Program Files\\WindowsApps\\PythonSoftwareFoundation.Python.3.10_3.10.2544.0_x64__qbz5n2kfra8p0\\lib\\concurrent\\futures\\thread.py:58\u001b[0m, in \u001b[0;36m_WorkItem.run\u001b[1;34m(self)\u001b[0m\n\u001b[0;32m     55\u001b[0m     \u001b[39mreturn\u001b[39;00m\n\u001b[0;32m     57\u001b[0m \u001b[39mtry\u001b[39;00m:\n\u001b[1;32m---> 58\u001b[0m     result \u001b[39m=\u001b[39m \u001b[39mself\u001b[39m\u001b[39m.\u001b[39mfn(\u001b[39m*\u001b[39m\u001b[39mself\u001b[39m\u001b[39m.\u001b[39margs, \u001b[39m*\u001b[39m\u001b[39m*\u001b[39m\u001b[39mself\u001b[39m\u001b[39m.\u001b[39mkwargs)\n\u001b[0;32m     59\u001b[0m \u001b[39mexcept\u001b[39;00m \u001b[39mBaseException\u001b[39;00m \u001b[39mas\u001b[39;00m exc:\n\u001b[0;32m     60\u001b[0m     \u001b[39mself\u001b[39m\u001b[39m.\u001b[39mfuture\u001b[39m.\u001b[39mset_exception(exc)\n",
      "File \u001b[1;32m~\\AppData\\Local\\Packages\\PythonSoftwareFoundation.Python.3.10_qbz5n2kfra8p0\\LocalCache\\local-packages\\Python310\\site-packages\\tensorflow_datasets\\core\\download\\downloader.py:217\u001b[0m, in \u001b[0;36m_Downloader._sync_download\u001b[1;34m(self, url, destination_path, verify)\u001b[0m\n\u001b[0;32m    214\u001b[0m \u001b[39mexcept\u001b[39;00m tf\u001b[39m.\u001b[39merrors\u001b[39m.\u001b[39mUnimplementedError:\n\u001b[0;32m    215\u001b[0m   \u001b[39mpass\u001b[39;00m\n\u001b[1;32m--> 217\u001b[0m \u001b[39mwith\u001b[39;00m _open_url(url, verify\u001b[39m=\u001b[39mverify) \u001b[39mas\u001b[39;00m (response, iter_content):\n\u001b[0;32m    218\u001b[0m   fname \u001b[39m=\u001b[39m _get_filename(response)\n\u001b[0;32m    219\u001b[0m   path \u001b[39m=\u001b[39m os\u001b[39m.\u001b[39mpath\u001b[39m.\u001b[39mjoin(destination_path, fname)\n",
      "File \u001b[1;32mC:\\Program Files\\WindowsApps\\PythonSoftwareFoundation.Python.3.10_3.10.2544.0_x64__qbz5n2kfra8p0\\lib\\contextlib.py:135\u001b[0m, in \u001b[0;36m_GeneratorContextManager.__enter__\u001b[1;34m(self)\u001b[0m\n\u001b[0;32m    133\u001b[0m \u001b[39mdel\u001b[39;00m \u001b[39mself\u001b[39m\u001b[39m.\u001b[39margs, \u001b[39mself\u001b[39m\u001b[39m.\u001b[39mkwds, \u001b[39mself\u001b[39m\u001b[39m.\u001b[39mfunc\n\u001b[0;32m    134\u001b[0m \u001b[39mtry\u001b[39;00m:\n\u001b[1;32m--> 135\u001b[0m     \u001b[39mreturn\u001b[39;00m \u001b[39mnext\u001b[39;49m(\u001b[39mself\u001b[39;49m\u001b[39m.\u001b[39;49mgen)\n\u001b[0;32m    136\u001b[0m \u001b[39mexcept\u001b[39;00m \u001b[39mStopIteration\u001b[39;00m:\n\u001b[0;32m    137\u001b[0m     \u001b[39mraise\u001b[39;00m \u001b[39mRuntimeError\u001b[39;00m(\u001b[39m\"\u001b[39m\u001b[39mgenerator didn\u001b[39m\u001b[39m'\u001b[39m\u001b[39mt yield\u001b[39m\u001b[39m\"\u001b[39m) \u001b[39mfrom\u001b[39;00m \u001b[39mNone\u001b[39m\n",
      "File \u001b[1;32m~\\AppData\\Local\\Packages\\PythonSoftwareFoundation.Python.3.10_qbz5n2kfra8p0\\LocalCache\\local-packages\\Python310\\site-packages\\tensorflow_datasets\\core\\download\\downloader.py:279\u001b[0m, in \u001b[0;36m_open_with_requests\u001b[1;34m(url, **kwargs)\u001b[0m\n\u001b[0;32m    277\u001b[0m   url \u001b[39m=\u001b[39m _normalize_drive_url(url)\n\u001b[0;32m    278\u001b[0m \u001b[39mwith\u001b[39;00m session\u001b[39m.\u001b[39mget(url, stream\u001b[39m=\u001b[39m\u001b[39mTrue\u001b[39;00m, \u001b[39m*\u001b[39m\u001b[39m*\u001b[39mkwargs) \u001b[39mas\u001b[39;00m response:\n\u001b[1;32m--> 279\u001b[0m   _assert_status(response)\n\u001b[0;32m    280\u001b[0m   \u001b[39myield\u001b[39;00m (response, response\u001b[39m.\u001b[39miter_content(chunk_size\u001b[39m=\u001b[39mio\u001b[39m.\u001b[39mDEFAULT_BUFFER_SIZE))\n",
      "File \u001b[1;32m~\\AppData\\Local\\Packages\\PythonSoftwareFoundation.Python.3.10_qbz5n2kfra8p0\\LocalCache\\local-packages\\Python310\\site-packages\\tensorflow_datasets\\core\\download\\downloader.py:306\u001b[0m, in \u001b[0;36m_assert_status\u001b[1;34m(response)\u001b[0m\n\u001b[0;32m    304\u001b[0m \u001b[39m\"\"\"Ensure the URL response is 200.\"\"\"\u001b[39;00m\n\u001b[0;32m    305\u001b[0m \u001b[39mif\u001b[39;00m response\u001b[39m.\u001b[39mstatus_code \u001b[39m!=\u001b[39m \u001b[39m200\u001b[39m:\n\u001b[1;32m--> 306\u001b[0m   \u001b[39mraise\u001b[39;00m DownloadError(\u001b[39m'\u001b[39m\u001b[39mFailed to get url \u001b[39m\u001b[39m{}\u001b[39;00m\u001b[39m. HTTP code: \u001b[39m\u001b[39m{}\u001b[39;00m\u001b[39m.\u001b[39m\u001b[39m'\u001b[39m\u001b[39m.\u001b[39mformat(\n\u001b[0;32m    307\u001b[0m       response\u001b[39m.\u001b[39murl, response\u001b[39m.\u001b[39mstatus_code))\n",
      "\u001b[1;31mDownloadError\u001b[0m: Failed to get url https://doc-0s-84-docs.googleusercontent.com/docs/securesc/ha0ro937gcuc7l7deffksulhg5h7mbp1/63h8fbtrtt71st00tfb4f5cj9bcbm860/1671466950000/13182073909007362810/*/0B7EVK8r0v71pZjFTYXZWM3FlRnM?e=download&uuid=eadd9acd-0fc6-426c-b16c-09048376b79b. HTTP code: 429."
     ]
    }
   ],
   "source": [
    "# I couldn't get the data\n",
    "\n",
    "a = tfds.load(\"celeb_a\", split=\"train\", shuffle_files=True)\n",
    "\n",
    "a"
   ]
  },
  {
   "cell_type": "markdown",
   "id": "5896ee2e-06ab-40ba-b2bc-3f213b7410d4",
   "metadata": {},
   "source": [
    "## Q2\n",
    "\n",
    "For this question use the [Hyperspectral Image of Kennedy Space Center](https://www.ehu.eus/ccwintco/index.php/Hyperspectral_Remote_Sensing_Scenes#Kennedy_Space_Center_.28KSC.29).\n",
    "\n",
    "1. Ingest the image data directly from the web. (No local files!)\n",
    "2. Ingest the ground truth data directly from the web. (No local files!)\n",
    "4. Build a convolutional neural network (preferably using [this](https://keras.io/api/layers/convolution_layers/) and/or [this](https://keras.io/api/layers/recurrent_layers/conv_lstm2d/)) model.\n",
    "5. Test the accuracy of the model using a 5-fold cross-validation. (I want a %95 confidence interval on the returned result using a t-test as I did in one of my lectures.)"
   ]
  },
  {
   "cell_type": "code",
   "execution_count": 3,
   "id": "05ab0c2f-cbe5-45d2-b837-5e5cc70dfab8",
   "metadata": {},
   "outputs": [],
   "source": [
    "ksc_url = urlretrieve('http://www.ehu.es/ccwintco/uploads/2/26/KSC.mat', 'ksc_data.mat')\n",
    "ksc_gt_url = urlretrieve('http://www.ehu.es/ccwintco/uploads/a/a6/KSC_gt.mat', 'ksc_gt.mat')\n",
    "\n",
    "ksc = loadmat('ksc_data.mat')['KSC']\n",
    "ksc_gt = loadmat('ksc_gt.mat')['KSC_gt']"
   ]
  },
  {
   "cell_type": "code",
   "execution_count": 4,
   "id": "46f94497",
   "metadata": {},
   "outputs": [],
   "source": [
    "X_train, X_test, y_train, y_test = train_test_split(ksc, ksc_gt, train_size=0.7)\n",
    "\n",
    "X_train = np.reshape(X_train, (X_train.shape[0]*X_train.shape[1], X_train.shape[2], 1))\n",
    "y_train = np.reshape(y_train, (y_train.shape[0]*y_train.shape[1]))\n"
   ]
  },
  {
   "cell_type": "code",
   "execution_count": 5,
   "id": "af6d9e00",
   "metadata": {},
   "outputs": [],
   "source": [
    "ConvLSTM2D_model = Sequential()\n",
    "\n",
    "ConvLSTM2D_model.add(ConvLSTM2D(filters=40, kernel_size=(3, 3),\n",
    "                   input_shape=(None, 358*614, 176, 1),\n",
    "                   padding='same', return_sequences=True))\n",
    "ConvLSTM2D_model.add(BatchNormalization())\n",
    "\n",
    "ConvLSTM2D_model.add(ConvLSTM2D(filters=40, kernel_size=(3, 3),\n",
    "                   padding='same', return_sequences=False))\n",
    "ConvLSTM2D_model.add(BatchNormalization())\n",
    "\n",
    "ConvLSTM2D_model.compile(loss='binary_crossentropy', optimizer='adadelta')"
   ]
  },
  {
   "cell_type": "code",
   "execution_count": 6,
   "id": "c8d112d1",
   "metadata": {},
   "outputs": [
    {
     "name": "stdout",
     "output_type": "stream",
     "text": [
      "Model: \"sequential\"\n",
      "_________________________________________________________________\n",
      " Layer (type)                Output Shape              Param #   \n",
      "=================================================================\n",
      " conv_lstm2d (ConvLSTM2D)    (None, None, 219812, 176  59200     \n",
      "                             , 40)                               \n",
      "                                                                 \n",
      " batch_normalization (BatchN  (None, None, 219812, 176  160      \n",
      " ormalization)               , 40)                               \n",
      "                                                                 \n",
      " conv_lstm2d_1 (ConvLSTM2D)  (None, 219812, 176, 40)   115360    \n",
      "                                                                 \n",
      " batch_normalization_1 (Batc  (None, 219812, 176, 40)  160       \n",
      " hNormalization)                                                 \n",
      "                                                                 \n",
      "=================================================================\n",
      "Total params: 174,880\n",
      "Trainable params: 174,720\n",
      "Non-trainable params: 160\n",
      "_________________________________________________________________\n"
     ]
    }
   ],
   "source": [
    "ConvLSTM2D_model.summary()"
   ]
  },
  {
   "cell_type": "code",
   "execution_count": 7,
   "id": "a2bc8679",
   "metadata": {},
   "outputs": [],
   "source": [
    "ConvLSTM2D_model.compile(optimizer='adam',\n",
    "                         loss='mean_squared_error')"
   ]
  },
  {
   "cell_type": "code",
   "execution_count": 8,
   "id": "0126d995",
   "metadata": {},
   "outputs": [
    {
     "data": {
      "text/plain": [
       "(219812, 176, 1)"
      ]
     },
     "execution_count": 8,
     "metadata": {},
     "output_type": "execute_result"
    }
   ],
   "source": [
    "X_train.shape"
   ]
  },
  {
   "cell_type": "code",
   "execution_count": 9,
   "id": "5f67ef80",
   "metadata": {},
   "outputs": [
    {
     "data": {
      "text/plain": [
       "(219812,)"
      ]
     },
     "execution_count": 9,
     "metadata": {},
     "output_type": "execute_result"
    }
   ],
   "source": [
    "y_train.shape"
   ]
  },
  {
   "cell_type": "code",
   "execution_count": 10,
   "id": "28472622",
   "metadata": {},
   "outputs": [
    {
     "name": "stdout",
     "output_type": "stream",
     "text": [
      "Epoch 1/10\n",
      "WARNING:tensorflow:Model was constructed with shape (None, None, 219812, 176, 1) for input KerasTensor(type_spec=TensorSpec(shape=(None, None, 219812, 176, 1), dtype=tf.float32, name='conv_lstm2d_input'), name='conv_lstm2d_input', description=\"created by layer 'conv_lstm2d_input'\"), but it was called on an input with incompatible shape (None, 176, 1).\n"
     ]
    },
    {
     "name": "stderr",
     "output_type": "stream",
     "text": [
      "WARNING:tensorflow:Model was constructed with shape (None, None, 219812, 176, 1) for input KerasTensor(type_spec=TensorSpec(shape=(None, None, 219812, 176, 1), dtype=tf.float32, name='conv_lstm2d_input'), name='conv_lstm2d_input', description=\"created by layer 'conv_lstm2d_input'\"), but it was called on an input with incompatible shape (None, 176, 1).\n"
     ]
    },
    {
     "ename": "ValueError",
     "evalue": "in user code:\n\n    File \"C:\\Users\\sahin\\AppData\\Local\\Packages\\PythonSoftwareFoundation.Python.3.10_qbz5n2kfra8p0\\LocalCache\\local-packages\\Python310\\site-packages\\keras\\engine\\training.py\", line 1249, in train_function  *\n        return step_function(self, iterator)\n    File \"C:\\Users\\sahin\\AppData\\Local\\Packages\\PythonSoftwareFoundation.Python.3.10_qbz5n2kfra8p0\\LocalCache\\local-packages\\Python310\\site-packages\\keras\\engine\\training.py\", line 1233, in step_function  **\n        outputs = model.distribute_strategy.run(run_step, args=(data,))\n    File \"C:\\Users\\sahin\\AppData\\Local\\Packages\\PythonSoftwareFoundation.Python.3.10_qbz5n2kfra8p0\\LocalCache\\local-packages\\Python310\\site-packages\\keras\\engine\\training.py\", line 1222, in run_step  **\n        outputs = model.train_step(data)\n    File \"C:\\Users\\sahin\\AppData\\Local\\Packages\\PythonSoftwareFoundation.Python.3.10_qbz5n2kfra8p0\\LocalCache\\local-packages\\Python310\\site-packages\\keras\\engine\\training.py\", line 1023, in train_step\n        y_pred = self(x, training=True)\n    File \"C:\\Users\\sahin\\AppData\\Local\\Packages\\PythonSoftwareFoundation.Python.3.10_qbz5n2kfra8p0\\LocalCache\\local-packages\\Python310\\site-packages\\keras\\utils\\traceback_utils.py\", line 70, in error_handler\n        raise e.with_traceback(filtered_tb) from None\n    File \"C:\\Users\\sahin\\AppData\\Local\\Packages\\PythonSoftwareFoundation.Python.3.10_qbz5n2kfra8p0\\LocalCache\\local-packages\\Python310\\site-packages\\keras\\engine\\input_spec.py\", line 232, in assert_input_compatibility\n        raise ValueError(\n\n    ValueError: Exception encountered when calling layer 'sequential' (type Sequential).\n    \n    Input 0 of layer \"conv_lstm2d\" is incompatible with the layer: expected ndim=5, found ndim=3. Full shape received: (None, 176, 1)\n    \n    Call arguments received by layer 'sequential' (type Sequential):\n      • inputs=tf.Tensor(shape=(None, 176, 1), dtype=uint16)\n      • training=True\n      • mask=None\n",
     "output_type": "error",
     "traceback": [
      "\u001b[1;31m---------------------------------------------------------------------------\u001b[0m",
      "\u001b[1;31mValueError\u001b[0m                                Traceback (most recent call last)",
      "Cell \u001b[1;32mIn [10], line 1\u001b[0m\n\u001b[1;32m----> 1\u001b[0m ConvLSTM2D_model\u001b[39m.\u001b[39;49mfit(X_train, y_train, batch_size\u001b[39m=\u001b[39;49m\u001b[39m16\u001b[39;49m, epochs\u001b[39m=\u001b[39;49m\u001b[39m10\u001b[39;49m)\n",
      "File \u001b[1;32m~\\AppData\\Local\\Packages\\PythonSoftwareFoundation.Python.3.10_qbz5n2kfra8p0\\LocalCache\\local-packages\\Python310\\site-packages\\keras\\utils\\traceback_utils.py:70\u001b[0m, in \u001b[0;36mfilter_traceback.<locals>.error_handler\u001b[1;34m(*args, **kwargs)\u001b[0m\n\u001b[0;32m     67\u001b[0m     filtered_tb \u001b[39m=\u001b[39m _process_traceback_frames(e\u001b[39m.\u001b[39m__traceback__)\n\u001b[0;32m     68\u001b[0m     \u001b[39m# To get the full stack trace, call:\u001b[39;00m\n\u001b[0;32m     69\u001b[0m     \u001b[39m# `tf.debugging.disable_traceback_filtering()`\u001b[39;00m\n\u001b[1;32m---> 70\u001b[0m     \u001b[39mraise\u001b[39;00m e\u001b[39m.\u001b[39mwith_traceback(filtered_tb) \u001b[39mfrom\u001b[39;00m \u001b[39mNone\u001b[39m\n\u001b[0;32m     71\u001b[0m \u001b[39mfinally\u001b[39;00m:\n\u001b[0;32m     72\u001b[0m     \u001b[39mdel\u001b[39;00m filtered_tb\n",
      "File \u001b[1;32m~\\AppData\\Local\\Temp\\__autograph_generated_filemdvznxr8.py:15\u001b[0m, in \u001b[0;36mouter_factory.<locals>.inner_factory.<locals>.tf__train_function\u001b[1;34m(iterator)\u001b[0m\n\u001b[0;32m     13\u001b[0m \u001b[39mtry\u001b[39;00m:\n\u001b[0;32m     14\u001b[0m     do_return \u001b[39m=\u001b[39m \u001b[39mTrue\u001b[39;00m\n\u001b[1;32m---> 15\u001b[0m     retval_ \u001b[39m=\u001b[39m ag__\u001b[39m.\u001b[39mconverted_call(ag__\u001b[39m.\u001b[39mld(step_function), (ag__\u001b[39m.\u001b[39mld(\u001b[39mself\u001b[39m), ag__\u001b[39m.\u001b[39mld(iterator)), \u001b[39mNone\u001b[39;00m, fscope)\n\u001b[0;32m     16\u001b[0m \u001b[39mexcept\u001b[39;00m:\n\u001b[0;32m     17\u001b[0m     do_return \u001b[39m=\u001b[39m \u001b[39mFalse\u001b[39;00m\n",
      "\u001b[1;31mValueError\u001b[0m: in user code:\n\n    File \"C:\\Users\\sahin\\AppData\\Local\\Packages\\PythonSoftwareFoundation.Python.3.10_qbz5n2kfra8p0\\LocalCache\\local-packages\\Python310\\site-packages\\keras\\engine\\training.py\", line 1249, in train_function  *\n        return step_function(self, iterator)\n    File \"C:\\Users\\sahin\\AppData\\Local\\Packages\\PythonSoftwareFoundation.Python.3.10_qbz5n2kfra8p0\\LocalCache\\local-packages\\Python310\\site-packages\\keras\\engine\\training.py\", line 1233, in step_function  **\n        outputs = model.distribute_strategy.run(run_step, args=(data,))\n    File \"C:\\Users\\sahin\\AppData\\Local\\Packages\\PythonSoftwareFoundation.Python.3.10_qbz5n2kfra8p0\\LocalCache\\local-packages\\Python310\\site-packages\\keras\\engine\\training.py\", line 1222, in run_step  **\n        outputs = model.train_step(data)\n    File \"C:\\Users\\sahin\\AppData\\Local\\Packages\\PythonSoftwareFoundation.Python.3.10_qbz5n2kfra8p0\\LocalCache\\local-packages\\Python310\\site-packages\\keras\\engine\\training.py\", line 1023, in train_step\n        y_pred = self(x, training=True)\n    File \"C:\\Users\\sahin\\AppData\\Local\\Packages\\PythonSoftwareFoundation.Python.3.10_qbz5n2kfra8p0\\LocalCache\\local-packages\\Python310\\site-packages\\keras\\utils\\traceback_utils.py\", line 70, in error_handler\n        raise e.with_traceback(filtered_tb) from None\n    File \"C:\\Users\\sahin\\AppData\\Local\\Packages\\PythonSoftwareFoundation.Python.3.10_qbz5n2kfra8p0\\LocalCache\\local-packages\\Python310\\site-packages\\keras\\engine\\input_spec.py\", line 232, in assert_input_compatibility\n        raise ValueError(\n\n    ValueError: Exception encountered when calling layer 'sequential' (type Sequential).\n    \n    Input 0 of layer \"conv_lstm2d\" is incompatible with the layer: expected ndim=5, found ndim=3. Full shape received: (None, 176, 1)\n    \n    Call arguments received by layer 'sequential' (type Sequential):\n      • inputs=tf.Tensor(shape=(None, 176, 1), dtype=uint16)\n      • training=True\n      • mask=None\n"
     ]
    }
   ],
   "source": [
    "ConvLSTM2D_model.fit(X_train, y_train, batch_size=16, epochs=10)"
   ]
  },
  {
   "cell_type": "markdown",
   "id": "b1299167-dc7b-4a54-ae1b-5c3bd5c40c73",
   "metadata": {},
   "source": [
    "## Q3\n",
    "\n",
    "For this question we are going to use the time series of [Wheat Futures](https://finance.yahoo.com/quote/ZW=F/) from Yahoo Finance.\n",
    "\n",
    "1. Ingest the data using [yfinance](https://pypi.org/project/yfinance/) Start from Jan 1, 2010 until Dec 31, 2021.\n",
    "2. Construct [a RNN and/or a LSTM](https://keras.io/api/layers/recurrent_layers/) model on the data.\n",
    "3. Test your model on the wheat futures data from Jan 1, 2022 to today using a 5-fold cross-validation. Did your model work? Explain."
   ]
  },
  {
   "cell_type": "code",
   "execution_count": 11,
   "id": "8c58e5c7-460a-4650-b08b-64b8838f49ac",
   "metadata": {},
   "outputs": [
    {
     "name": "stdout",
     "output_type": "stream",
     "text": [
      "[*********************100%***********************]  1 of 1 completed\n",
      "[*********************100%***********************]  1 of 1 completed\n"
     ]
    }
   ],
   "source": [
    "train_wheatf = yf.download('ZW=F', start='2010-01-01', end='2021-12-31')[['Close']]\n",
    "test_wheatf = yf.download('ZW=F', start='2022-01-01')[['Close']]"
   ]
  },
  {
   "cell_type": "code",
   "execution_count": 12,
   "id": "8f835bad",
   "metadata": {},
   "outputs": [],
   "source": [
    "scaler = MinMaxScaler()\n",
    "\n",
    "wheatf_df = pd.concat([train_wheatf, test_wheatf])\n",
    "scaled_wheat = scaler.fit_transform(wheatf_df)\n",
    "\n",
    "scaled_train_wheatf = scaled_wheat[:len(train_wheatf)]\n",
    "scaled_test_wheatf = scaled_wheat[len(train_wheatf):]"
   ]
  },
  {
   "cell_type": "code",
   "execution_count": 13,
   "id": "656e43df",
   "metadata": {},
   "outputs": [],
   "source": [
    "X_train = []\n",
    "y_train = []\n",
    "\n",
    "for i in range(60, len(train_wheatf)):\n",
    "    X_train.append(scaled_train_wheatf[i-60:i, 0])\n",
    "    y_train.append(scaled_train_wheatf[i, 0])"
   ]
  },
  {
   "cell_type": "code",
   "execution_count": 14,
   "id": "197d6f1f",
   "metadata": {},
   "outputs": [],
   "source": [
    "X_train, y_train = np.array(X_train), np.array(y_train)"
   ]
  },
  {
   "cell_type": "code",
   "execution_count": 15,
   "id": "cf59a226",
   "metadata": {},
   "outputs": [],
   "source": [
    "X_train = np.reshape(X_train, (X_train.shape[0], X_train.shape[1], 1))"
   ]
  },
  {
   "cell_type": "code",
   "execution_count": 16,
   "id": "3d03f37a",
   "metadata": {},
   "outputs": [],
   "source": [
    "X_test = []\n",
    "y_test = scaled_test_wheatf[60:, :]\n",
    "\n",
    "for i in range(60, len(test_wheatf)):\n",
    "    X_test.append(scaled_test_wheatf[i-60:i, 0])\n",
    "\n",
    "X_test = np.array(X_test)\n",
    "\n",
    "X_test = np.reshape(X_test, (X_test.shape[0], X_test.shape[1], 1))"
   ]
  },
  {
   "cell_type": "code",
   "execution_count": 17,
   "id": "304c79c4",
   "metadata": {},
   "outputs": [],
   "source": [
    "LSTM_model = Sequential()\n",
    "LSTM_model.add(LSTM(32, activation='relu', return_sequences=True, input_shape=(X_train.shape[1], 1)))\n",
    "LSTM_model.add(LSTM(32, activation='relu', return_sequences=False))\n",
    "LSTM_model.add(Dense(1))"
   ]
  },
  {
   "cell_type": "code",
   "execution_count": 18,
   "id": "ababff0a",
   "metadata": {},
   "outputs": [],
   "source": [
    "LSTM_model.compile(optimizer='adam',\n",
    "              loss='mean_squared_error')"
   ]
  },
  {
   "cell_type": "code",
   "execution_count": 19,
   "id": "77f7f340",
   "metadata": {},
   "outputs": [
    {
     "name": "stdout",
     "output_type": "stream",
     "text": [
      "Epoch 1/10\n",
      "185/185 [==============================] - 8s 27ms/step - loss: 0.0049 - val_loss: 0.0055\n",
      "Epoch 2/10\n",
      "185/185 [==============================] - 5s 26ms/step - loss: 6.9943e-04 - val_loss: 0.0049\n",
      "Epoch 3/10\n",
      "185/185 [==============================] - 5s 26ms/step - loss: 5.7115e-04 - val_loss: 0.0019\n",
      "Epoch 4/10\n",
      "185/185 [==============================] - 5s 26ms/step - loss: 4.6761e-04 - val_loss: 0.0020\n",
      "Epoch 5/10\n",
      "185/185 [==============================] - 5s 26ms/step - loss: 4.1114e-04 - val_loss: 0.0017\n",
      "Epoch 6/10\n",
      "185/185 [==============================] - 5s 26ms/step - loss: 3.7665e-04 - val_loss: 0.0013\n",
      "Epoch 7/10\n",
      "185/185 [==============================] - 5s 27ms/step - loss: 3.4474e-04 - val_loss: 0.0018\n",
      "Epoch 8/10\n",
      "185/185 [==============================] - 5s 27ms/step - loss: 3.2754e-04 - val_loss: 0.0017\n",
      "Epoch 9/10\n",
      "185/185 [==============================] - 5s 27ms/step - loss: 2.9245e-04 - val_loss: 0.0017\n",
      "Epoch 10/10\n",
      "185/185 [==============================] - 5s 26ms/step - loss: 2.9695e-04 - val_loss: 0.0011\n"
     ]
    },
    {
     "data": {
      "text/plain": [
       "<keras.callbacks.History at 0x1f817687ca0>"
      ]
     },
     "execution_count": 19,
     "metadata": {},
     "output_type": "execute_result"
    }
   ],
   "source": [
    "LSTM_model.fit(X_train, y_train, batch_size=16, epochs=10, validation_data=(X_test,y_test))"
   ]
  },
  {
   "cell_type": "code",
   "execution_count": 20,
   "id": "3b8928f8",
   "metadata": {},
   "outputs": [
    {
     "name": "stdout",
     "output_type": "stream",
     "text": [
      "6/6 [==============================] - 0s 12ms/step\n"
     ]
    }
   ],
   "source": [
    "preds = LSTM_model.predict(X_test)\n",
    "preds = scaler.inverse_transform(preds)"
   ]
  },
  {
   "cell_type": "code",
   "execution_count": 21,
   "id": "fbb1d722",
   "metadata": {},
   "outputs": [
    {
     "data": {
      "text/plain": [
       "[<matplotlib.lines.Line2D at 0x1f81b98f340>]"
      ]
     },
     "execution_count": 21,
     "metadata": {},
     "output_type": "execute_result"
    },
    {
     "data": {
      "image/png": "[encoded data removed]",
      "text/plain": [
       "<Figure size 640x480 with 1 Axes>"
      ]
     },
     "metadata": {},
     "output_type": "display_data"
    }
   ],
   "source": [
    "plt.figure()\n",
    "plt.plot(preds)\n",
    "plt.plot(test_wheatf.values[60:])"
   ]
  },
  {
   "attachments": {},
   "cell_type": "markdown",
   "id": "2986ddd0",
   "metadata": {},
   "source": [
    "__LSTM model uses a value very close to the previous day to predict the next day. Therefore, we can say that this model can't predict the future.__"
   ]
  },
  {
   "cell_type": "code",
   "execution_count": 22,
   "id": "c4c00ea7",
   "metadata": {},
   "outputs": [
    {
     "ename": "TypeError",
     "evalue": "If no scoring is specified, the estimator passed should have a 'score' method. The estimator <keras.engine.sequential.Sequential object at 0x000001F85AE674C0> does not.",
     "output_type": "error",
     "traceback": [
      "\u001b[1;31m---------------------------------------------------------------------------\u001b[0m",
      "\u001b[1;31mTypeError\u001b[0m                                 Traceback (most recent call last)",
      "Cell \u001b[1;32mIn [22], line 2\u001b[0m\n\u001b[0;32m      1\u001b[0m k_cv \u001b[39m=\u001b[39m KFold(n_splits\u001b[39m=\u001b[39m\u001b[39m5\u001b[39m)\n\u001b[1;32m----> 2\u001b[0m score \u001b[39m=\u001b[39m cross_val_score(LSTM_model, test_wheatf, cv\u001b[39m=\u001b[39;49mk_cv, n_jobs\u001b[39m=\u001b[39;49m\u001b[39m-\u001b[39;49m\u001b[39m1\u001b[39;49m)\n",
      "File \u001b[1;32m~\\AppData\\Local\\Packages\\PythonSoftwareFoundation.Python.3.10_qbz5n2kfra8p0\\LocalCache\\local-packages\\Python310\\site-packages\\sklearn\\model_selection\\_validation.py:513\u001b[0m, in \u001b[0;36mcross_val_score\u001b[1;34m(estimator, X, y, groups, scoring, cv, n_jobs, verbose, fit_params, pre_dispatch, error_score)\u001b[0m\n\u001b[0;32m    395\u001b[0m \u001b[39m\"\"\"Evaluate a score by cross-validation.\u001b[39;00m\n\u001b[0;32m    396\u001b[0m \n\u001b[0;32m    397\u001b[0m \u001b[39mRead more in the :ref:`User Guide <cross_validation>`.\u001b[39;00m\n\u001b[1;32m   (...)\u001b[0m\n\u001b[0;32m    510\u001b[0m \u001b[39m[0.3315057  0.08022103 0.03531816]\u001b[39;00m\n\u001b[0;32m    511\u001b[0m \u001b[39m\"\"\"\u001b[39;00m\n\u001b[0;32m    512\u001b[0m \u001b[39m# To ensure multimetric format is not supported\u001b[39;00m\n\u001b[1;32m--> 513\u001b[0m scorer \u001b[39m=\u001b[39m check_scoring(estimator, scoring\u001b[39m=\u001b[39;49mscoring)\n\u001b[0;32m    515\u001b[0m cv_results \u001b[39m=\u001b[39m cross_validate(\n\u001b[0;32m    516\u001b[0m     estimator\u001b[39m=\u001b[39mestimator,\n\u001b[0;32m    517\u001b[0m     X\u001b[39m=\u001b[39mX,\n\u001b[1;32m   (...)\u001b[0m\n\u001b[0;32m    526\u001b[0m     error_score\u001b[39m=\u001b[39merror_score,\n\u001b[0;32m    527\u001b[0m )\n\u001b[0;32m    528\u001b[0m \u001b[39mreturn\u001b[39;00m cv_results[\u001b[39m\"\u001b[39m\u001b[39mtest_score\u001b[39m\u001b[39m\"\u001b[39m]\n",
      "File \u001b[1;32m~\\AppData\\Local\\Packages\\PythonSoftwareFoundation.Python.3.10_qbz5n2kfra8p0\\LocalCache\\local-packages\\Python310\\site-packages\\sklearn\\metrics\\_scorer.py:488\u001b[0m, in \u001b[0;36mcheck_scoring\u001b[1;34m(estimator, scoring, allow_none)\u001b[0m\n\u001b[0;32m    486\u001b[0m         \u001b[39mreturn\u001b[39;00m \u001b[39mNone\u001b[39;00m\n\u001b[0;32m    487\u001b[0m     \u001b[39melse\u001b[39;00m:\n\u001b[1;32m--> 488\u001b[0m         \u001b[39mraise\u001b[39;00m \u001b[39mTypeError\u001b[39;00m(\n\u001b[0;32m    489\u001b[0m             \u001b[39m\"\u001b[39m\u001b[39mIf no scoring is specified, the estimator passed should \u001b[39m\u001b[39m\"\u001b[39m\n\u001b[0;32m    490\u001b[0m             \u001b[39m\"\u001b[39m\u001b[39mhave a \u001b[39m\u001b[39m'\u001b[39m\u001b[39mscore\u001b[39m\u001b[39m'\u001b[39m\u001b[39m method. The estimator \u001b[39m\u001b[39m%r\u001b[39;00m\u001b[39m does not.\u001b[39m\u001b[39m\"\u001b[39m \u001b[39m%\u001b[39m estimator\n\u001b[0;32m    491\u001b[0m         )\n\u001b[0;32m    492\u001b[0m \u001b[39melif\u001b[39;00m \u001b[39misinstance\u001b[39m(scoring, Iterable):\n\u001b[0;32m    493\u001b[0m     \u001b[39mraise\u001b[39;00m \u001b[39mValueError\u001b[39;00m(\n\u001b[0;32m    494\u001b[0m         \u001b[39m\"\u001b[39m\u001b[39mFor evaluating multiple scores, use \u001b[39m\u001b[39m\"\u001b[39m\n\u001b[0;32m    495\u001b[0m         \u001b[39m\"\u001b[39m\u001b[39msklearn.model_selection.cross_validate instead. \u001b[39m\u001b[39m\"\u001b[39m\n\u001b[0;32m    496\u001b[0m         \u001b[39m\"\u001b[39m\u001b[39m{0}\u001b[39;00m\u001b[39m was passed.\u001b[39m\u001b[39m\"\u001b[39m\u001b[39m.\u001b[39mformat(scoring)\n\u001b[0;32m    497\u001b[0m     )\n",
      "\u001b[1;31mTypeError\u001b[0m: If no scoring is specified, the estimator passed should have a 'score' method. The estimator <keras.engine.sequential.Sequential object at 0x000001F85AE674C0> does not."
     ]
    }
   ],
   "source": [
    "k_cv = KFold(n_splits=5)\n",
    "score = cross_val_score(LSTM_model, test_wheatf, cv=k_cv, n_jobs=-1)"
   ]
  },
  {
   "attachments": {},
   "cell_type": "markdown",
   "id": "348e3416",
   "metadata": {},
   "source": [
    "***"
   ]
  },
  {
   "cell_type": "markdown",
   "id": "f2cd3167-d198-412b-a794-29e887e2250b",
   "metadata": {},
   "source": [
    "## Q4\n",
    "\n",
    "For this question, we are going to use [Consumer Complaints Dataset](https://raw.githubusercontent.com/plotly/datasets/master/26k-consumer-complaints.csv).\n",
    "\n",
    "1. Ingest the dataset. We are only going to use the columns `Issue` and `Timely Response?`.\n",
    "2. Convert the values in the issue column to vectors using [Count Vectorizer](https://scikit-learn.org/stable/modules/generated/sklearn.feature_extraction.text.CountVectorizer.html) from `scikit-learn`. Similarly, binarize the column `Timely Response` using [Label Binarizer](https://scikit-learn.org/stable/modules/generated/sklearn.preprocessing.LabelBinarizer.html).\n",
    "3. Split your dataset into train and test.\n",
    "3. Construct an an appropriate neural network model on the train set.\n",
    "4. Test your model on the test set. Did your model work? Explain."
   ]
  },
  {
   "cell_type": "code",
   "execution_count": 23,
   "id": "fef22860-09f6-49e7-a43f-feb83a3ed9db",
   "metadata": {},
   "outputs": [],
   "source": [
    "cc_ds_url = 'https://raw.githubusercontent.com/plotly/datasets/master/26k-consumer-complaints.csv'\n",
    "cc_df = pd.read_csv(cc_ds_url)[['Issue', 'Timely response?']].dropna()"
   ]
  },
  {
   "cell_type": "code",
   "execution_count": 24,
   "id": "96054d0a",
   "metadata": {},
   "outputs": [],
   "source": [
    "vectorizer = CountVectorizer()\n",
    "X = vectorizer.fit_transform(cc_df['Issue']).toarray()"
   ]
  },
  {
   "cell_type": "code",
   "execution_count": 25,
   "id": "8c00a6dc",
   "metadata": {},
   "outputs": [],
   "source": [
    "binarizer = LabelBinarizer()\n",
    "y = binarizer.fit_transform(cc_df['Timely response?'])"
   ]
  },
  {
   "cell_type": "code",
   "execution_count": 26,
   "id": "eb31c66c",
   "metadata": {},
   "outputs": [],
   "source": [
    "X_train, X_test, y_train, y_test = train_test_split(X, y, train_size=0.7)"
   ]
  },
  {
   "cell_type": "code",
   "execution_count": 28,
   "id": "7ff584e8",
   "metadata": {},
   "outputs": [],
   "source": [
    "cc_model = Sequential()\n",
    "cc_model.add(Dense(10, activation='sigmoid'))\n",
    "cc_model.add(Dense(1, activation='softmax'))\n",
    "\n",
    "cc_model.compile(optimizer='RMSprop',\n",
    "              loss='binary_crossentropy',\n",
    "              metrics=['binary_accuracy'])"
   ]
  },
  {
   "cell_type": "code",
   "execution_count": 29,
   "id": "3f68d31f",
   "metadata": {},
   "outputs": [
    {
     "name": "stdout",
     "output_type": "stream",
     "text": [
      "Epoch 1/20\n",
      "308/308 [==============================] - 1s 1ms/step - loss: 0.9332 - binary_accuracy: 0.9742\n",
      "Epoch 2/20\n",
      "308/308 [==============================] - 0s 1ms/step - loss: 0.2280 - binary_accuracy: 0.9742\n",
      "Epoch 3/20\n",
      "308/308 [==============================] - 0s 1ms/step - loss: 0.1260 - binary_accuracy: 0.9742\n",
      "Epoch 4/20\n",
      "308/308 [==============================] - 0s 1ms/step - loss: 0.1169 - binary_accuracy: 0.9742\n",
      "Epoch 5/20\n",
      "308/308 [==============================] - 0s 1ms/step - loss: 0.1147 - binary_accuracy: 0.9742\n",
      "Epoch 6/20\n",
      "308/308 [==============================] - 0s 1ms/step - loss: 0.1126 - binary_accuracy: 0.9742\n",
      "Epoch 7/20\n",
      "308/308 [==============================] - 0s 1ms/step - loss: 0.1107 - binary_accuracy: 0.9742\n",
      "Epoch 8/20\n",
      "308/308 [==============================] - 0s 1ms/step - loss: 0.1094 - binary_accuracy: 0.9742\n",
      "Epoch 9/20\n",
      "308/308 [==============================] - 0s 1ms/step - loss: 0.1084 - binary_accuracy: 0.9742\n",
      "Epoch 10/20\n",
      "308/308 [==============================] - 0s 1ms/step - loss: 0.1078 - binary_accuracy: 0.9742\n",
      "Epoch 11/20\n",
      "308/308 [==============================] - 0s 1ms/step - loss: 0.1074 - binary_accuracy: 0.9742\n",
      "Epoch 12/20\n",
      "308/308 [==============================] - 0s 1ms/step - loss: 0.1071 - binary_accuracy: 0.9742\n",
      "Epoch 13/20\n",
      "308/308 [==============================] - 0s 1ms/step - loss: 0.1068 - binary_accuracy: 0.9742\n",
      "Epoch 14/20\n",
      "308/308 [==============================] - 0s 1ms/step - loss: 0.1066 - binary_accuracy: 0.9742\n",
      "Epoch 15/20\n",
      "308/308 [==============================] - 0s 1ms/step - loss: 0.1065 - binary_accuracy: 0.9742\n",
      "Epoch 16/20\n",
      "308/308 [==============================] - 0s 1ms/step - loss: 0.1064 - binary_accuracy: 0.9742\n",
      "Epoch 17/20\n",
      "308/308 [==============================] - 0s 1ms/step - loss: 0.1063 - binary_accuracy: 0.9742\n",
      "Epoch 18/20\n",
      "308/308 [==============================] - 0s 1ms/step - loss: 0.1063 - binary_accuracy: 0.9742\n",
      "Epoch 19/20\n",
      "308/308 [==============================] - 0s 1ms/step - loss: 0.1062 - binary_accuracy: 0.9742\n",
      "Epoch 20/20\n",
      "308/308 [==============================] - 0s 1ms/step - loss: 0.1062 - binary_accuracy: 0.9742\n"
     ]
    },
    {
     "data": {
      "text/plain": [
       "<keras.callbacks.History at 0x1f8177422c0>"
      ]
     },
     "execution_count": 29,
     "metadata": {},
     "output_type": "execute_result"
    }
   ],
   "source": [
    "cc_model.fit(X_train, y_train, epochs = 20, batch_size = 64)"
   ]
  },
  {
   "cell_type": "code",
   "execution_count": 30,
   "id": "f87a2ce1",
   "metadata": {},
   "outputs": [
    {
     "name": "stdout",
     "output_type": "stream",
     "text": [
      "264/264 [==============================] - 0s 1ms/step\n"
     ]
    }
   ],
   "source": [
    "preds = cc_model.predict(X_test)"
   ]
  },
  {
   "cell_type": "code",
   "execution_count": 31,
   "id": "02b57f95",
   "metadata": {},
   "outputs": [
    {
     "data": {
      "text/html": [
       "<div>\n",
       "<style scoped>\n",
       "    .dataframe tbody tr th:only-of-type {\n",
       "        vertical-align: middle;\n",
       "    }\n",
       "\n",
       "    .dataframe tbody tr th {\n",
       "        vertical-align: top;\n",
       "    }\n",
       "\n",
       "    .dataframe thead th {\n",
       "        text-align: right;\n",
       "    }\n",
       "</style>\n",
       "<table border=\"1\" class=\"dataframe\">\n",
       "  <thead>\n",
       "    <tr style=\"text-align: right;\">\n",
       "      <th></th>\n",
       "      <th>Issue</th>\n",
       "    </tr>\n",
       "    <tr>\n",
       "      <th>Timely response?</th>\n",
       "      <th></th>\n",
       "    </tr>\n",
       "  </thead>\n",
       "  <tbody>\n",
       "    <tr>\n",
       "      <th>No</th>\n",
       "      <td>712</td>\n",
       "    </tr>\n",
       "    <tr>\n",
       "      <th>Yes</th>\n",
       "      <td>27442</td>\n",
       "    </tr>\n",
       "  </tbody>\n",
       "</table>\n",
       "</div>"
      ],
      "text/plain": [
       "                  Issue\n",
       "Timely response?       \n",
       "No                  712\n",
       "Yes               27442"
      ]
     },
     "execution_count": 31,
     "metadata": {},
     "output_type": "execute_result"
    }
   ],
   "source": [
    "cc_df.groupby('Timely response?').count()"
   ]
  },
  {
   "cell_type": "code",
   "execution_count": 32,
   "id": "bc88eabc",
   "metadata": {},
   "outputs": [
    {
     "data": {
      "text/plain": [
       "0.9758494139931336"
      ]
     },
     "execution_count": 32,
     "metadata": {},
     "output_type": "execute_result"
    }
   ],
   "source": [
    "accuracy_score(y_test, preds)"
   ]
  },
  {
   "cell_type": "code",
   "execution_count": 33,
   "id": "4d40fb13",
   "metadata": {},
   "outputs": [
    {
     "data": {
      "text/plain": [
       "array([[   0,  204],\n",
       "       [   0, 8243]], dtype=int64)"
      ]
     },
     "execution_count": 33,
     "metadata": {},
     "output_type": "execute_result"
    }
   ],
   "source": [
    "confusion_matrix(y_test, preds)"
   ]
  },
  {
   "attachments": {},
   "cell_type": "markdown",
   "id": "6ab77a25",
   "metadata": {},
   "source": [
    "__Although the accuracy score is high, when we look at the confusion matrix we see that the model predicts each input as 1. This shows that my model is not working well.__"
   ]
  }
 ],
 "metadata": {
  "kernelspec": {
   "display_name": "Python 3",
   "language": "python",
   "name": "python3"
  },
  "language_info": {
   "codemirror_mode": {
    "name": "ipython",
    "version": 3
   },
   "file_extension": ".py",
   "mimetype": "text/x-python",
   "name": "python",
   "nbconvert_exporter": "python",
   "pygments_lexer": "ipython3",
   "version": "3.10.9"
  },
  "vscode": {
   "interpreter": {
    "hash": "8e8271cb67d71434d71d7359a5244618f962c24c33d897b4dd8966bfba9a1715"
   }
  }
 },
 "nbformat": 4,
 "nbformat_minor": 5
}
